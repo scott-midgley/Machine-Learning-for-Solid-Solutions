{
 "cells": [
  {
   "cell_type": "markdown",
   "metadata": {},
   "source": [
    "### Program written by Scott Midgley, 2021\n",
    "### Scope: To train and test LR models for mixing energy screening in the configuraional space of MgO-ZnO solid solutions. "
   ]
  },
  {
   "cell_type": "code",
   "execution_count": null,
   "metadata": {},
   "outputs": [],
   "source": [
    "### USER INPUT REQUIRED ###\n",
    "\n",
    "# Please paste in the path to the repositiory here an comment/uncomment as needed.\n",
    "# E.g. rundir = r'C:\\Users\\<user>\\Desktop\\repository'\n",
    "\n",
    "# Windows path\n",
    "#repodir = r'<windows\\path\\here>'\n",
    "repodir = r'C:\\Users\\smidg\\Desktop\\ml\\repository'\n",
    "\n",
    "#Unix path\n",
    "#repodir = '<unix/path/here>'"
   ]
  },
  {
   "cell_type": "code",
   "execution_count": null,
   "metadata": {},
   "outputs": [],
   "source": [
    "### USER INPUT REQUIRED ###\n",
    "\n",
    "# Define percentage of training data to use for training. \n",
    "split = 10\n",
    "#split = 50\n",
    "#split = 80\n",
    "#split = 30"
   ]
  },
  {
   "cell_type": "code",
   "execution_count": null,
   "metadata": {},
   "outputs": [],
   "source": [
    "# Import modules. \n",
    "import pandas as pd\n",
    "import tensorflow as tf\n",
    "import matplotlib\n",
    "import matplotlib.pyplot as plt\n",
    "import numpy as np\n",
    "from sklearn import preprocessing\n",
    "import pickle\n",
    "import os\n",
    "import time\n",
    "from sklearn.linear_model import LinearRegression\n",
    "from sklearn.metrics import mean_absolute_error\n",
    "from sklearn.linear_model import Lasso\n",
    "from sklearn.metrics import mean_squared_error\n",
    "import os"
   ]
  },
  {
   "cell_type": "code",
   "execution_count": null,
   "metadata": {},
   "outputs": [],
   "source": [
    "# Start program timer.\n",
    "start_time = time.time()"
   ]
  },
  {
   "cell_type": "code",
   "execution_count": null,
   "metadata": {},
   "outputs": [],
   "source": [
    "#datadir = ('C:/Users/smidg/Google Drive/PhD/machine-learning/sdm/all-data/cluster-expansion/data/full-ccf/chebyshev/')\n",
    "# Define LR working directory. \n",
    "os.chdir(repodir)\n",
    "os.chdir('cluster_correlation_functions')\n",
    "os.chdir('lr')\n",
    "os.chdir('EGAP')\n",
    "lrdir = os.getcwd()\n",
    "print(lrdir)"
   ]
  },
  {
   "cell_type": "code",
   "execution_count": null,
   "metadata": {},
   "outputs": [],
   "source": [
    "# Import data and shuffle (optional).\n",
    "os.chdir('..')\n",
    "os.chdir('..')\n",
    "os.chdir('data')\n",
    "os.chdir('rundir')\n",
    "eners = pd.read_pickle('input_data_ccf.pkl')\n",
    "eners = eners.sample(frac=1)\n",
    "os.chdir(lrdir)"
   ]
  },
  {
   "cell_type": "code",
   "execution_count": null,
   "metadata": {},
   "outputs": [],
   "source": [
    "# Split data frame into training, validation, and testing data. \n",
    "if split == int(10):\n",
    "    e_train = eners.iloc[1608:2412] #10% of data for training\n",
    "elif split == int(30):\n",
    "    e_train = eners.iloc[1608:4021] #30% of data for training\n",
    "elif split == int(50):\n",
    "    e_train = eners.iloc[1608:5630] #50% of data for training\n",
    "elif split == int(80):\n",
    "    e_train = eners.iloc[1608:] #80% of data for training\n",
    "else:\n",
    "    print('Error: please choose a valid train/test split.')\n",
    "e_val = eners.iloc[804:1608] #10% of data for validation\n",
    "e_test = eners.iloc[:804] #10% of data for testing model"
   ]
  },
  {
   "cell_type": "code",
   "execution_count": null,
   "metadata": {},
   "outputs": [],
   "source": [
    "# Convert Pandas columns to Numpy arrays. Reshaping to obtain array of nested brackets. \n",
    "Xtrain = e_train['cf_vector'].to_numpy()\n",
    "ytrain = e_train['BGE'].to_numpy()\n",
    "Xtrain = np.stack(Xtrain)\n",
    "ytrain= np.stack(ytrain) \n",
    "Xval = e_val['cf_vector'].to_numpy()\n",
    "yval = e_val['BGE'].to_numpy()\n",
    "Xval = np.stack(Xval)\n",
    "yval= np.stack(yval)\n",
    "Xtest = e_test['cf_vector'].to_numpy()\n",
    "ytest = e_test['BGE'].to_numpy()\n",
    "Xtest = np.stack(Xtest)\n",
    "ytest = np.stack(ytest)"
   ]
  },
  {
   "cell_type": "code",
   "execution_count": null,
   "metadata": {},
   "outputs": [],
   "source": [
    "# Define Lasso regularized regressor. \n",
    "lasso_reg = Lasso(alpha=0.000001)\n",
    "lasso_reg.fit(Xtrain, ytrain)"
   ]
  },
  {
   "cell_type": "code",
   "execution_count": null,
   "metadata": {},
   "outputs": [],
   "source": [
    "# Start a dataframe for regressor metrics.\n",
    "metrics_df = pd.DataFrame()"
   ]
  },
  {
   "cell_type": "code",
   "execution_count": null,
   "metadata": {},
   "outputs": [],
   "source": [
    "# Print regressor metrics.\n",
    "r_sq = ('R^2:  ', lasso_reg.score(Xtrain, ytrain))\n",
    "inter = ('intercept: ', lasso_reg.intercept_)\n",
    "coef = ('coefficient:  ', lasso_reg.coef_)\n",
    "print(r_sq)\n",
    "print(inter)\n",
    "print(coef)"
   ]
  },
  {
   "cell_type": "code",
   "execution_count": null,
   "metadata": {},
   "outputs": [],
   "source": [
    "# Test the regressor. \n",
    "ypred = lasso_reg.predict(Xtest)"
   ]
  },
  {
   "cell_type": "code",
   "execution_count": null,
   "metadata": {},
   "outputs": [],
   "source": [
    "# Add metrics to data frame. \n",
    "mae = ('MAE:  ', mean_absolute_error(ytest, ypred))\n",
    "print('mae = ', mae)\n",
    "metrics_df['mae'] = mae\n",
    "metrics_df['r_sq'] = r_sq\n",
    "metrics_df['coef'] = coef"
   ]
  },
  {
   "cell_type": "code",
   "execution_count": null,
   "metadata": {},
   "outputs": [],
   "source": [
    "# Save metrics data frame to file. \n",
    "metrics_df.to_csv('metrics.csv')"
   ]
  },
  {
   "cell_type": "code",
   "execution_count": null,
   "metadata": {},
   "outputs": [],
   "source": [
    "#Plot DFT mixing energy vs regressor predicted.\n",
    "plt.scatter(ytest, ypred)\n",
    "plt.xlabel('DFT')\n",
    "plt.ylabel('Regressor')\n",
    "#plt.savefig('BGE_pred_vs_val.png')"
   ]
  },
  {
   "cell_type": "code",
   "execution_count": null,
   "metadata": {},
   "outputs": [],
   "source": [
    "# Export data. \n",
    "df_data = pd.DataFrame()\n",
    "df_data['ytest'] = ytest\n",
    "df_data['ypred'] = ypred\n",
    "df_data.to_excel('data.xlsx')"
   ]
  },
  {
   "cell_type": "code",
   "execution_count": null,
   "metadata": {},
   "outputs": [],
   "source": [
    "# Print time taken by program to run. \n",
    "time_s = round((time.time() - start_time), 2)\n",
    "time_m = round((time_s/60), 2)\n",
    "print(time_s,'sec')\n",
    "print(time_m, 'min')"
   ]
  },
  {
   "cell_type": "code",
   "execution_count": null,
   "metadata": {},
   "outputs": [],
   "source": []
  }
 ],
 "metadata": {
  "kernelspec": {
   "display_name": "Python 3",
   "language": "python",
   "name": "python3"
  },
  "language_info": {
   "codemirror_mode": {
    "name": "ipython",
    "version": 3
   },
   "file_extension": ".py",
   "mimetype": "text/x-python",
   "name": "python",
   "nbconvert_exporter": "python",
   "pygments_lexer": "ipython3",
   "version": "3.8.5"
  }
 },
 "nbformat": 4,
 "nbformat_minor": 4
}

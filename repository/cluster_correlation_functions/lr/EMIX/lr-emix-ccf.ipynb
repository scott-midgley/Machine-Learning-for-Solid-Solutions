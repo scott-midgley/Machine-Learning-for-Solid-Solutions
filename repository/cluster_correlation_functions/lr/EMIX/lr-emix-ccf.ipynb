{
 "cells": [
  {
   "cell_type": "markdown",
   "metadata": {},
   "source": [
    "### Program written by Scott Midgley, 2021\n",
    "### Scope: To train and test LR models for mixing energy screening in the configuraional space of MgO-ZnO solid solutions. "
   ]
  },
  {
   "cell_type": "code",
   "execution_count": null,
   "metadata": {},
   "outputs": [],
   "source": [
    "### USER INPUT REQUIRED ###\n",
    "\n",
    "# Please paste in the path to the repositiory here an comment/uncomment as needed.\n",
    "# E.g. rundir = r'C:\\Users\\<user>\\Desktop\\repository'\n",
    "\n",
    "# Windows path\n",
    "#repodir = r'<windows\\path\\here>'\n",
    "repodir = r'C:\\Users\\smidg\\Desktop\\ml\\repository'\n",
    "\n",
    "#Unix path\n",
    "#repodir = '<unix/path/here>'"
   ]
  },
  {
   "cell_type": "code",
   "execution_count": null,
   "metadata": {},
   "outputs": [],
   "source": [
    "### USER INPUT REQUIRED ###\n",
    "\n",
    "# Define percentage of training data to use for training. \n",
    "split = 10\n",
    "#split = 50\n",
    "#split = 80\n",
    "#split = 30"
   ]
  },
  {
   "cell_type": "code",
   "execution_count": 1,
   "metadata": {},
   "outputs": [],
   "source": [
    "# Import modules. \n",
    "import pandas as pd\n",
    "import tensorflow as tf\n",
    "import matplotlib\n",
    "import matplotlib.pyplot as plt\n",
    "import numpy as np\n",
    "from sklearn import preprocessing\n",
    "import pickle\n",
    "import os\n",
    "import time\n",
    "from sklearn.linear_model import LinearRegression\n",
    "from sklearn.metrics import mean_absolute_error\n",
    "from sklearn.linear_model import Lasso\n",
    "from sklearn.metrics import mean_squared_error\n",
    "import os"
   ]
  },
  {
   "cell_type": "code",
   "execution_count": 2,
   "metadata": {},
   "outputs": [],
   "source": [
    "# Start program timer.\n",
    "start_time = time.time()"
   ]
  },
  {
   "cell_type": "code",
   "execution_count": 3,
   "metadata": {},
   "outputs": [],
   "source": [
    "#datadir = ('C:/Users/smidg/Google Drive/PhD/machine-learning/sdm/all-data/cluster-expansion/data/full-ccf/chebyshev/')\n",
    "# Define LR working directory. \n",
    "os.chdir(repodir)\n",
    "os.chdir('cluster_correlation_functions')\n",
    "os.chdir('lr')\n",
    "os.chdir('EMIX')\n",
    "lrdir = os.getcwd()\n",
    "print(lrdir)"
   ]
  },
  {
   "cell_type": "code",
   "execution_count": null,
   "metadata": {},
   "outputs": [],
   "source": [
    "# Import data and shuffle (optional).\n",
    "os.chdir('..')\n",
    "os.chdir('..')\n",
    "os.chdir('data')\n",
    "os.chdir('rundir')\n",
    "eners = pd.read_pickle('input_data_ccf.pkl')\n",
    "#eners = eners.sample(frac=1)\n",
    "os.chdir(lrdir)"
   ]
  },
  {
   "cell_type": "code",
   "execution_count": 5,
   "metadata": {},
   "outputs": [],
   "source": [
    "# Calculate mixing energies based on total DFT energy of phase separated end members. Add emix to data frame.  \n",
    "Emg_end = -381.17925146/32\n",
    "Ezn_end = -317.49620269/36\n",
    "Emg_end = 24 * Emg_end\n",
    "Ezn_end = 8 * Ezn_end\n",
    "emix = eners['SCF Energy'] - (Emg_end + Ezn_end)\n",
    "eners['Emix'] = emix"
   ]
  },
  {
   "cell_type": "code",
   "execution_count": 9,
   "metadata": {},
   "outputs": [],
   "source": [
    "# Split data frame into training, validation, and testing data. \n",
    "if split == int(10):\n",
    "    e_train = eners.iloc[1608:2412] #10% of data for training\n",
    "elif split == int(30):\n",
    "    e_train = eners.iloc[1608:4021] #30% of data for training\n",
    "elif split == int(50):\n",
    "    e_train = eners.iloc[1608:5630] #50% of data for training\n",
    "elif split == int(80):\n",
    "    e_train = eners.iloc[1608:] #80% of data for training\n",
    "else:\n",
    "    print('Error: please choose a valid train/test split.')\n",
    "e_val = eners.iloc[804:1608] #10% of data for validation\n",
    "e_test = eners.iloc[:804] #10% of data for testing model"
   ]
  },
  {
   "cell_type": "code",
   "execution_count": 11,
   "metadata": {},
   "outputs": [],
   "source": [
    "# Convert Pandas columns to Numpy arrays. Reshaping to obtain array of nested brackets. \n",
    "Xtrain = e_train['cf_vector'].to_numpy()\n",
    "ytrain = e_train['Emix'].to_numpy()\n",
    "Xtrain = np.stack(Xtrain)\n",
    "ytrain= np.stack(ytrain) \n",
    "Xval = e_val['cf_vector'].to_numpy()\n",
    "yval = e_val['Emix'].to_numpy()\n",
    "Xval = np.stack(Xval)\n",
    "yval= np.stack(yval)\n",
    "Xtest = e_test['cf_vector'].to_numpy()\n",
    "ytest = e_test['Emix'].to_numpy()\n",
    "Xtest = np.stack(Xtest)\n",
    "ytest = np.stack(ytest)"
   ]
  },
  {
   "cell_type": "code",
   "execution_count": 12,
   "metadata": {},
   "outputs": [
    {
     "name": "stderr",
     "output_type": "stream",
     "text": [
      "C:\\Users\\smidg\\anaconda3\\lib\\site-packages\\sklearn\\linear_model\\_coordinate_descent.py:529: ConvergenceWarning: Objective did not converge. You might want to increase the number of iterations. Duality gap: 1.8476164297550368, tolerance: 0.0007385772434630246\n",
      "  model = cd_fast.enet_coordinate_descent(\n"
     ]
    },
    {
     "data": {
      "text/plain": [
       "Lasso(alpha=1e-06)"
      ]
     },
     "execution_count": 12,
     "metadata": {},
     "output_type": "execute_result"
    }
   ],
   "source": [
    "# Define Lasso regularized regressor. \n",
    "lasso_reg = Lasso(alpha=0.000001)\n",
    "lasso_reg.fit(Xtrain, ytrain)"
   ]
  },
  {
   "cell_type": "code",
   "execution_count": 13,
   "metadata": {},
   "outputs": [],
   "source": [
    "# Start a dataframe for regressor metrics.\n",
    "metrics_df = pd.DataFrame()"
   ]
  },
  {
   "cell_type": "code",
   "execution_count": 14,
   "metadata": {},
   "outputs": [
    {
     "name": "stdout",
     "output_type": "stream",
     "text": [
      "('R^2:  ', 0.3906650647644282)\n",
      "('intercept: ', 2.2468326497618802)\n",
      "('coefficient:  ', array([-3.62183524e-06, -1.30853807e-03, -1.17056036e-03,  5.03906433e-04,\n",
      "        1.04875461e-03, -2.78123884e-03,  1.16828627e-04,  6.75726968e-05,\n",
      "       -1.28023843e-04, -1.04628300e-04,  1.28984855e-04, -3.20354253e-05,\n",
      "        8.42269537e-05,  2.93179579e-05, -2.78010663e-05, -2.46316800e-05,\n",
      "        2.24291690e-04, -2.60803518e-04, -4.96239396e-04,  1.08135144e-04,\n",
      "       -2.59042358e-04, -1.12707010e-05, -1.80744902e-05,  4.41210893e-05,\n",
      "       -1.42135392e-04, -8.97755452e-05, -9.53526171e-05,  5.86396180e-05,\n",
      "        1.73198814e-04,  7.94414461e-05,  3.67742222e-05, -6.79148852e-06,\n",
      "        2.79582087e-04,  3.45885788e-05,  5.02199397e-04, -2.18139764e-04,\n",
      "        7.84688321e-05,  5.33777571e-05, -4.91125914e-05,  9.08233585e-06,\n",
      "       -9.25916970e-05,  1.88411582e-04, -5.35695700e-05, -1.55808638e-04,\n",
      "        1.47799096e-04,  7.62973128e-05,  7.68128256e-05,  3.53743245e-05,\n",
      "       -6.51968599e-05, -6.00434124e-06,  2.64995513e-05,  7.81942747e-05,\n",
      "       -5.64592052e-05, -6.83513744e-05,  4.40349724e-04,  2.07025056e-04,\n",
      "       -1.10976940e-04,  6.43030131e-05,  2.50337014e-04,  5.99611066e-05,\n",
      "       -1.01171614e-05, -2.03136289e-04,  1.31104120e-06,  1.16705276e-04,\n",
      "       -9.58769317e-05, -1.58101054e-04, -7.00756298e-05,  2.68153807e-07,\n",
      "       -2.56850047e-04,  4.61018887e-05,  8.11494625e-05, -1.20592884e-04,\n",
      "        2.34243188e-05,  3.19286973e-05, -1.31980088e-06,  1.75490020e-04,\n",
      "        4.12936252e-05,  1.20042014e-04,  1.21257837e-04, -1.86308706e-04,\n",
      "       -8.54941621e-05, -2.30786553e-05,  1.06606204e-04,  7.16610027e-05,\n",
      "        1.65368418e-05, -9.65821610e-05, -4.08384417e-05,  2.22674139e-05,\n",
      "       -6.33694934e-05, -5.23018822e-04,  5.69469282e-05]))\n"
     ]
    }
   ],
   "source": [
    "# Print regressor metrics.\n",
    "r_sq = ('R^2:  ', lasso_reg.score(Xtrain, ytrain))\n",
    "inter = ('intercept: ', lasso_reg.intercept_)\n",
    "coef = ('coefficient:  ', lasso_reg.coef_)\n",
    "print(r_sq)\n",
    "print(inter)\n",
    "print(coef)"
   ]
  },
  {
   "cell_type": "code",
   "execution_count": 15,
   "metadata": {},
   "outputs": [],
   "source": [
    "# Test the regressor. \n",
    "ypred = lasso_reg.predict(Xtest)"
   ]
  },
  {
   "cell_type": "code",
   "execution_count": 16,
   "metadata": {},
   "outputs": [
    {
     "name": "stdout",
     "output_type": "stream",
     "text": [
      "mae =  ('MAE:  ', 0.020250873197144546)\n",
      "rmse =  0.025904618232665245\n"
     ]
    },
    {
     "name": "stderr",
     "output_type": "stream",
     "text": [
      "C:\\Users\\smidg\\anaconda3\\lib\\site-packages\\numpy\\core\\_asarray.py:83: VisibleDeprecationWarning: Creating an ndarray from ragged nested sequences (which is a list-or-tuple of lists-or-tuples-or ndarrays with different lengths or shapes) is deprecated. If you meant to do this, you must specify 'dtype=object' when creating the ndarray\n",
      "  return array(a, dtype, copy=False, order=order)\n"
     ]
    }
   ],
   "source": [
    "# Add metrics to data frame. \n",
    "mae = ('MAE:  ', mean_absolute_error(ytest, ypred))\n",
    "print('mae = ', mae)\n",
    "metrics_df['mae'] = mae\n",
    "metrics_df['r_sq'] = r_sq\n",
    "metrics_df['coef'] = coef"
   ]
  },
  {
   "cell_type": "code",
   "execution_count": 18,
   "metadata": {},
   "outputs": [],
   "source": [
    "# Save metrics data frame to file. \n",
    "metrics_df.to_csv('metrics.csv')"
   ]
  },
  {
   "cell_type": "code",
   "execution_count": 19,
   "metadata": {},
   "outputs": [
    {
     "data": {
      "text/plain": [
       "Text(0, 0.5, 'Regressor')"
      ]
     },
     "execution_count": 19,
     "metadata": {},
     "output_type": "execute_result"
    },
    {
     "data": {
      "image/png": "[encoded data removed]",
      "text/plain": [
       "<Figure size 432x288 with 1 Axes>"
      ]
     },
     "metadata": {
      "needs_background": "light"
     },
     "output_type": "display_data"
    }
   ],
   "source": [
    "#Plot DFT mixing energy vs regressor predicted.\n",
    "plt.scatter(ytest, ypred)\n",
    "plt.xlabel('DFT')\n",
    "plt.ylabel('Regressor')\n",
    "#plt.savefig('BGE_pred_vs_val.png')"
   ]
  },
  {
   "cell_type": "code",
   "execution_count": 20,
   "metadata": {},
   "outputs": [],
   "source": [
    "# Export data. \n",
    "df_data = pd.DataFrame()\n",
    "df_data['ytest'] = ytest\n",
    "df_data['ypred'] = ypred\n",
    "df_data.to_excel('data.xlsx')"
   ]
  },
  {
   "cell_type": "code",
   "execution_count": 21,
   "metadata": {},
   "outputs": [
    {
     "name": "stdout",
     "output_type": "stream",
     "text": [
      "1.38 sec\n",
      "0.02 min\n"
     ]
    }
   ],
   "source": [
    "# Print time taken by program to run. \n",
    "time_s = round((time.time() - start_time), 2)\n",
    "time_m = round((time_s/60), 2)\n",
    "print(time_s,'sec')\n",
    "print(time_m, 'min')"
   ]
  },
  {
   "cell_type": "code",
   "execution_count": null,
   "metadata": {},
   "outputs": [],
   "source": []
  }
 ],
 "metadata": {
  "kernelspec": {
   "display_name": "Python 3",
   "language": "python",
   "name": "python3"
  },
  "language_info": {
   "codemirror_mode": {
    "name": "ipython",
    "version": 3
   },
   "file_extension": ".py",
   "mimetype": "text/x-python",
   "name": "python",
   "nbconvert_exporter": "python",
   "pygments_lexer": "ipython3",
   "version": "3.8.5"
  }
 },
 "nbformat": 4,
 "nbformat_minor": 4
}

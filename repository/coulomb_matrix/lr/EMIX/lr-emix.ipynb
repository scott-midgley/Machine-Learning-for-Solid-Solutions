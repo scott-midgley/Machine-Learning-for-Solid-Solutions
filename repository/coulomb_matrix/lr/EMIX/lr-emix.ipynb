{
 "cells": [
  {
   "cell_type": "markdown",
   "metadata": {},
   "source": [
    "### Program written by Scott Midgley, 2021\n",
    "\n",
    "Scope: To train and test LR models for band gap energy screening in the configuraional space of MgO-ZnO solid solutions. "
   ]
  },
  {
   "cell_type": "code",
   "execution_count": 1,
   "metadata": {},
   "outputs": [],
   "source": [
    "### USER INPUT REQUIRED ###\n",
    "\n",
    "# Please paste in the path to the repositiory here an comment/uncomment as needed.\n",
    "# E.g. rundir = r'C:\\Users\\<user>\\Desktop\\repository'\n",
    "\n",
    "# Windows path\n",
    "#repodir = r'<windows\\path\\here>'\n",
    "#repodir = r'C:\\Users\\smidg\\Desktop\\ml\\repository'\n",
    "\n",
    "#Unix path\n",
    "#repodir = '<unix/path/here>'\n",
    "repodir = r'/home/mts87985/ml-thermo/Machine-Learning-for-Solid-Solutions/repository/'"
   ]
  },
  {
   "cell_type": "code",
   "execution_count": 2,
   "metadata": {},
   "outputs": [],
   "source": [
    "### USER INPUT REQUIRED ###\n",
    "\n",
    "# Define percentage of training data to use for training. \n",
    "split = 10\n",
    "#split = 50\n",
    "#split = 80\n",
    "#split = 30"
   ]
  },
  {
   "cell_type": "code",
   "execution_count": 3,
   "metadata": {},
   "outputs": [],
   "source": [
    "# Import modules. \n",
    "import pandas as pd\n",
    "import tensorflow as tf\n",
    "import matplotlib\n",
    "import matplotlib.pyplot as plt\n",
    "import numpy as np\n",
    "from sklearn import preprocessing\n",
    "import pickle\n",
    "import time\n",
    "from sklearn.linear_model import LinearRegression\n",
    "from sklearn.metrics import mean_absolute_error\n",
    "import os\n",
    "from sklearn.linear_model import Lasso"
   ]
  },
  {
   "cell_type": "markdown",
   "metadata": {},
   "source": [
    "## Load the data\n",
    "\n",
    "Note we do not shuffle in this case. The data was shuffled when created and we are keeping it un-shuffled here so that the order is the same as that used in the paper. However, you are free to add a shuffle if you like."
   ]
  },
  {
   "cell_type": "code",
   "execution_count": 4,
   "metadata": {},
   "outputs": [],
   "source": [
    "# Import data and shuffle (optional).\n",
    "eners = pd.read_pickle(repodir + 'repository-data/coulomb_matrix/input_data_cme.pkl')\n",
    "eners = eners.sample(frac=1)\n",
    "#Calculate mixing energies based on total DFT energy of phase separated end members. Add emix to data frame.  \n",
    "Emg_end = -381.17925146/32\n",
    "Ezn_end = -317.49620269/36\n",
    "Emg_end = 24 * Emg_end\n",
    "Ezn_end = 8 * Ezn_end\n",
    "emix = eners['SCF Energy'] - (Emg_end + Ezn_end)\n",
    "eners['Emix'] = emix"
   ]
  },
  {
   "cell_type": "code",
   "execution_count": 5,
   "metadata": {},
   "outputs": [],
   "source": [
    "# Split data frame into training, validation, and testing data. \n",
    "if split == int(10):\n",
    "    e_train = eners.iloc[1608:2412] #10% of data for training\n",
    "elif split == int(30):\n",
    "    e_train = eners.iloc[1608:4021] #30% of data for training\n",
    "elif split == int(50):\n",
    "    e_train = eners.iloc[1608:5630] #50% of data for training\n",
    "elif split == int(80):\n",
    "    e_train = eners.iloc[1608:] #80% of data for training\n",
    "else:\n",
    "    print('Error: please choose a valid train/test split.')\n",
    "e_val = eners.iloc[804:1608] #10% of data for validation\n",
    "e_test = eners.iloc[:804] #10% of data for testing model"
   ]
  },
  {
   "cell_type": "code",
   "execution_count": 6,
   "metadata": {},
   "outputs": [],
   "source": [
    "# Convert Pandas columns to Numpy arrays. Reshaping to obtain array of nested brackets. \n",
    "Xtrain = e_train['Coulomb'].to_numpy()\n",
    "ytrain = e_train['Emix'].to_numpy()\n",
    "Xtrain = np.stack(Xtrain)\n",
    "ytrain= np.stack(ytrain) \n",
    "Xval = e_val['Coulomb'].to_numpy()\n",
    "yval = e_val['Emix'].to_numpy()\n",
    "Xval = np.stack(Xval)\n",
    "yval= np.stack(yval)\n",
    "Xtest = e_test['Coulomb'].to_numpy()\n",
    "ytest = e_test['Emix'].to_numpy()\n",
    "Xtest = np.stack(Xtest)\n",
    "ytest = np.stack(ytest)"
   ]
  },
  {
   "cell_type": "code",
   "execution_count": 7,
   "metadata": {},
   "outputs": [
    {
     "name": "stderr",
     "output_type": "stream",
     "text": [
      "/home/mts87985/anaconda3/envs/ml-solid-solns/lib/python3.9/site-packages/sklearn/linear_model/_coordinate_descent.py:530: ConvergenceWarning: Objective did not converge. You might want to increase the number of iterations. Duality gap: 0.0008529026807244708, tolerance: 9.068378548902982e-05\n",
      "  model = cd_fast.enet_coordinate_descent(\n"
     ]
    },
    {
     "data": {
      "text/plain": [
       "Lasso(alpha=1e-07)"
      ]
     },
     "execution_count": 7,
     "metadata": {},
     "output_type": "execute_result"
    }
   ],
   "source": [
    "# Define Lasso regularizer and train regressor.\n",
    "lasso_reg = Lasso(alpha=0.0000001)\n",
    "lasso_reg.fit(Xtrain, ytrain)"
   ]
  },
  {
   "cell_type": "code",
   "execution_count": 8,
   "metadata": {},
   "outputs": [
    {
     "name": "stdout",
     "output_type": "stream",
     "text": [
      "0.9982933123449438\n",
      "('intercept: ', 16.73203003548754)\n",
      "('coefficient:  ', array([ 1.44408057e-03,  1.44369827e-04,  5.50959122e-05,  2.40785183e-05,\n",
      "       -2.25689282e-05, -3.81852747e-05, -7.18299861e-05, -1.18931522e-04,\n",
      "       -7.01288026e-04,  2.04627164e-03,  2.08588415e-03,  2.23015454e-03,\n",
      "        2.39476815e-03,  2.48358027e-03,  2.61505561e-03,  0.00000000e+00,\n",
      "        0.00000000e+00,  0.00000000e+00,  0.00000000e+00,  6.73987596e-04,\n",
      "        5.76368292e-04,  1.02274727e-03, -8.41958690e-04, -1.82310190e-03,\n",
      "       -1.91753456e-03, -2.01382407e-03, -2.33378875e-03, -2.58846488e-03,\n",
      "       -2.80695173e-03, -3.07463228e-03, -3.18389135e-03, -3.75155404e-03,\n",
      "        5.60377339e-03,  2.38445677e-02,  2.88727214e-02,  2.90186602e-02,\n",
      "        2.84747713e-02,  2.77431255e-02,  2.80245073e-02,  2.50276174e-02,\n",
      "        2.01648841e-02,  3.41254670e-02, -0.00000000e+00, -1.48527832e-02,\n",
      "       -8.22242725e-03, -1.33592191e-02, -1.65984340e-02, -2.45796460e-02,\n",
      "       -3.42199081e-02, -4.13285756e-02, -4.29404267e-02,  0.00000000e+00,\n",
      "        0.00000000e+00, -0.00000000e+00, -0.00000000e+00,  0.00000000e+00,\n",
      "        0.00000000e+00,  0.00000000e+00,  0.00000000e+00,  0.00000000e+00,\n",
      "        0.00000000e+00,  0.00000000e+00, -5.12191369e-01,  3.14465292e-02]))\n"
     ]
    }
   ],
   "source": [
    "# Print parameters.\n",
    "r_sq = (lasso_reg.score(Xtrain, ytrain))\n",
    "inter = ('intercept: ', lasso_reg.intercept_)\n",
    "coef = ('coefficient:  ', lasso_reg.coef_)\n",
    "print(r_sq)\n",
    "print(inter)\n",
    "print(coef)"
   ]
  },
  {
   "cell_type": "code",
   "execution_count": 9,
   "metadata": {},
   "outputs": [],
   "source": [
    "# Test linear regressor.\n",
    "ypred = lasso_reg.predict(Xtest)"
   ]
  },
  {
   "cell_type": "code",
   "execution_count": 10,
   "metadata": {},
   "outputs": [
    {
     "name": "stdout",
     "output_type": "stream",
     "text": [
      "mae =  0.0012023413101029878\n"
     ]
    }
   ],
   "source": [
    "# Print metric.\n",
    "mae = (mean_absolute_error(ytest, ypred))\n",
    "print('mae = ', mae)"
   ]
  },
  {
   "cell_type": "code",
   "execution_count": 11,
   "metadata": {},
   "outputs": [
    {
     "data": {
      "text/plain": [
       "Text(0, 0.5, 'Regressor')"
      ]
     },
     "execution_count": 11,
     "metadata": {},
     "output_type": "execute_result"
    },
    {
     "data": {
      "image/png": "[encoded data removed]",
      "text/plain": [
       "<Figure size 432x288 with 1 Axes>"
      ]
     },
     "metadata": {
      "needs_background": "light"
     },
     "output_type": "display_data"
    }
   ],
   "source": [
    "#Plot DFT mixing energy vs regressor predicted.\n",
    "plt.scatter(ytest, ypred)# plot the predicted versus the actual gaps\n",
    "plt.xlabel('DFT')\n",
    "plt.ylabel('Regressor')\n",
    "#plt.savefig('BGE_pred_vs_val.png')"
   ]
  }
 ],
 "metadata": {
  "kernelspec": {
   "display_name": "Python 3",
   "language": "python",
   "name": "python3"
  },
  "language_info": {
   "codemirror_mode": {
    "name": "ipython",
    "version": 3
   },
   "file_extension": ".py",
   "mimetype": "text/x-python",
   "name": "python",
   "nbconvert_exporter": "python",
   "pygments_lexer": "ipython3",
   "version": "3.9.4"
  }
 },
 "nbformat": 4,
 "nbformat_minor": 4
}

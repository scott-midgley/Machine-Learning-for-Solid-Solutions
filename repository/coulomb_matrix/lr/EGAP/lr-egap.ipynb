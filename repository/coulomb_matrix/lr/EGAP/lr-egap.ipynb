{
 "cells": [
  {
   "cell_type": "markdown",
   "metadata": {},
   "source": [
    "### Program written by Scott Midgley, 2021\n",
    "### Scope: To train and test LR models for band gap energy screening in the configuraional space of MgO-ZnO solid solutions. "
   ]
  },
  {
   "cell_type": "code",
   "execution_count": 1,
   "metadata": {},
   "outputs": [],
   "source": [
    "### USER INPUT REQUIRED ###\n",
    "\n",
    "# Please paste in the path to the repositiory here an comment/uncomment as needed.\n",
    "# E.g. rundir = r'C:\\Users\\<user>\\Desktop\\repository'\n",
    "\n",
    "# Windows path\n",
    "#repodir = r'<windows\\path\\here>'\n",
    "repodir = r'C:\\Users\\smidg\\Desktop\\ml\\repository'\n",
    "\n",
    "#Unix path\n",
    "#repodir = '<unix/path/here>'"
   ]
  },
  {
   "cell_type": "code",
   "execution_count": 2,
   "metadata": {},
   "outputs": [],
   "source": [
    "### USER INPUT REQUIRED ###\n",
    "\n",
    "# Define percentage of training data to use for training. \n",
    "split = 10\n",
    "#split = 50\n",
    "#split = 80\n",
    "#split = 30"
   ]
  },
  {
   "cell_type": "code",
   "execution_count": 3,
   "metadata": {},
   "outputs": [],
   "source": [
    "# Import modules. \n",
    "import pandas as pd\n",
    "import tensorflow as tf\n",
    "import matplotlib\n",
    "import matplotlib.pyplot as plt\n",
    "import numpy as np\n",
    "from sklearn import preprocessing\n",
    "import pickle\n",
    "import time\n",
    "from sklearn.linear_model import LinearRegression\n",
    "from sklearn.metrics import mean_absolute_error\n",
    "import os\n",
    "from sklearn.linear_model import Lasso"
   ]
  },
  {
   "cell_type": "code",
   "execution_count": 4,
   "metadata": {},
   "outputs": [],
   "source": [
    "# Start program timer.\n",
    "start_time = time.time()"
   ]
  },
  {
   "cell_type": "code",
   "execution_count": 5,
   "metadata": {},
   "outputs": [
    {
     "name": "stdout",
     "output_type": "stream",
     "text": [
      "C:\\Users\\smidg\\Desktop\\ml\\repository\\coulomb_matrix\\lr\\EGAP\n"
     ]
    }
   ],
   "source": [
    "# Define LR working directory. \n",
    "os.chdir(repodir)\n",
    "os.chdir('coulomb_matrix')\n",
    "os.chdir('lr')\n",
    "os.chdir('EGAP')\n",
    "lrdir = os.getcwd()\n",
    "print(lrdir)"
   ]
  },
  {
   "cell_type": "code",
   "execution_count": 6,
   "metadata": {},
   "outputs": [],
   "source": [
    "# Import data and shuffle (optional).\n",
    "os.chdir('..')\n",
    "os.chdir('..')\n",
    "os.chdir('data')\n",
    "os.chdir('rundir')\n",
    "eners = pd.read_pickle('input_data.pkl')\n",
    "#eners = eners.sample(frac=1)\n",
    "os.chdir(lrdir)"
   ]
  },
  {
   "cell_type": "code",
   "execution_count": 7,
   "metadata": {},
   "outputs": [],
   "source": [
    "# Split data frame into training, validation, and testing data. \n",
    "if split == int(10):\n",
    "    e_train = eners.iloc[1608:2412] #10% of data for training\n",
    "elif split == int(30):\n",
    "    e_train = eners.iloc[1608:4021] #30% of data for training\n",
    "elif split == int(50):\n",
    "    e_train = eners.iloc[1608:5630] #50% of data for training\n",
    "elif split == int(80):\n",
    "    e_train = eners.iloc[1608:] #80% of data for training\n",
    "else:\n",
    "    print('Error: please choose a valid train/test split.')\n",
    "e_val = eners.iloc[804:1608] #10% of data for validation\n",
    "e_test = eners.iloc[:804] #10% of data for testing model"
   ]
  },
  {
   "cell_type": "code",
   "execution_count": 8,
   "metadata": {},
   "outputs": [],
   "source": [
    "# Convert Pandas columns to Numpy arrays. Reshaping to obtain array of nested brackets. \n",
    "Xtrain = e_train['Coulomb'].to_numpy()\n",
    "ytrain = e_train['BGE'].to_numpy()\n",
    "Xtrain = np.stack(Xtrain)\n",
    "ytrain= np.stack(ytrain) \n",
    "Xval = e_val['Coulomb'].to_numpy()\n",
    "yval = e_val['BGE'].to_numpy()\n",
    "Xval = np.stack(Xval)\n",
    "yval= np.stack(yval)\n",
    "Xtest = e_test['Coulomb'].to_numpy()\n",
    "ytest = e_test['BGE'].to_numpy()\n",
    "Xtest = np.stack(Xtest)\n",
    "ytest = np.stack(ytest)"
   ]
  },
  {
   "cell_type": "code",
   "execution_count": 9,
   "metadata": {},
   "outputs": [
    {
     "name": "stderr",
     "output_type": "stream",
     "text": [
      "C:\\Users\\smidg\\anaconda3\\lib\\site-packages\\sklearn\\linear_model\\_coordinate_descent.py:529: ConvergenceWarning: Objective did not converge. You might want to increase the number of iterations. Duality gap: 0.43936043260354796, tolerance: 0.0015214159778018281\n",
      "  model = cd_fast.enet_coordinate_descent(\n"
     ]
    },
    {
     "data": {
      "text/plain": [
       "Lasso(alpha=1e-07)"
      ]
     },
     "execution_count": 9,
     "metadata": {},
     "output_type": "execute_result"
    }
   ],
   "source": [
    "# Define Lasso regularizer and train regressor.\n",
    "lasso_reg = Lasso(alpha=0.0000001)\n",
    "lasso_reg.fit(Xtrain, ytrain)"
   ]
  },
  {
   "cell_type": "code",
   "execution_count": 10,
   "metadata": {},
   "outputs": [
    {
     "name": "stdout",
     "output_type": "stream",
     "text": [
      "0.9424140650297123\n",
      "('intercept: ', -174.8215636942293)\n",
      "('coefficient:  ', array([-1.02223218e-03,  8.66575508e-04,  4.08125561e-04,  2.48917942e-05,\n",
      "       -3.05858810e-04, -6.14998786e-04, -9.27225090e-04, -6.14236468e-04,\n",
      "        1.22968755e-03,  1.13033097e-02,  1.20842539e-02,  1.20851296e-02,\n",
      "        1.20261649e-02,  1.22735939e-02,  7.24746036e-03,  0.00000000e+00,\n",
      "        0.00000000e+00,  0.00000000e+00,  0.00000000e+00, -1.30102093e-02,\n",
      "       -1.70101677e-02, -1.96723986e-02, -2.49688247e-02, -4.14157377e-02,\n",
      "       -1.27182986e-02, -6.97608275e-03, -4.22713582e-03,  4.62604276e-04,\n",
      "        1.76488907e-03, -1.17697427e-03,  4.42137583e-04, -4.42270156e-03,\n",
      "        2.61870081e-03, -7.14873000e-02, -5.08007715e-02, -3.42500002e-02,\n",
      "       -1.95305853e-02,  1.00143689e-02, -1.47335391e-02,  6.05005498e-01,\n",
      "        6.05798503e-01,  1.58392469e+00,  0.00000000e+00,  1.57653283e-01,\n",
      "        3.49602092e-01,  3.93413657e-01,  3.89172353e-01,  5.57287478e-01,\n",
      "        4.73335187e-01,  3.83840862e-01,  2.25690933e-01, -0.00000000e+00,\n",
      "       -0.00000000e+00, -0.00000000e+00, -0.00000000e+00, -0.00000000e+00,\n",
      "       -0.00000000e+00, -0.00000000e+00,  0.00000000e+00,  0.00000000e+00,\n",
      "       -0.00000000e+00, -7.28891453e+00,  4.47915766e-01,  3.70861597e+00]))\n"
     ]
    }
   ],
   "source": [
    "# Print parameters.\n",
    "r_sq = (lasso_reg.score(Xtrain, ytrain))\n",
    "inter = ('intercept: ', lasso_reg.intercept_)\n",
    "coef = ('coefficient:  ', lasso_reg.coef_)\n",
    "print(r_sq)\n",
    "print(inter)\n",
    "print(coef)"
   ]
  },
  {
   "cell_type": "code",
   "execution_count": 11,
   "metadata": {},
   "outputs": [],
   "source": [
    "# Test linear regressor.\n",
    "ypred = lasso_reg.predict(Xtest)"
   ]
  },
  {
   "cell_type": "code",
   "execution_count": 12,
   "metadata": {},
   "outputs": [
    {
     "name": "stdout",
     "output_type": "stream",
     "text": [
      "mae =  0.029888704401592445\n"
     ]
    }
   ],
   "source": [
    "# Print metric.\n",
    "mae = (mean_absolute_error(ytest, ypred))\n",
    "print('mae = ', mae)"
   ]
  },
  {
   "cell_type": "code",
   "execution_count": 13,
   "metadata": {},
   "outputs": [
    {
     "data": {
      "text/plain": [
       "Text(0, 0.5, 'Regressor')"
      ]
     },
     "execution_count": 13,
     "metadata": {},
     "output_type": "execute_result"
    },
    {
     "data": {
      "image/png": "[encoded data removed]",
      "text/plain": [
       "<Figure size 432x288 with 1 Axes>"
      ]
     },
     "metadata": {
      "needs_background": "light"
     },
     "output_type": "display_data"
    }
   ],
   "source": [
    "#Plot DFT mixing energy vs regressor predicted.\n",
    "plt.scatter(ytest, ypred)# plot the predicted versus the actual gaps\n",
    "plt.xlabel('DFT')\n",
    "plt.ylabel('Regressor')\n",
    "#plt.savefig('BGE_pred_vs_val.png')"
   ]
  },
  {
   "cell_type": "code",
   "execution_count": 14,
   "metadata": {},
   "outputs": [],
   "source": [
    "### Data export\n",
    "df_data = pd.DataFrame()\n",
    "df_data['ytest'] = ytest\n",
    "df_data['ypred'] = ypred\n",
    "metrics_df = pd.DataFrame()\n",
    "metrics_df['metrics'] = mae, r_sq\n",
    "\n",
    "result = pd.concat([df_data, metrics_df], axis=1)\n",
    "result.to_excel('result.xlsx')"
   ]
  },
  {
   "cell_type": "code",
   "execution_count": 15,
   "metadata": {},
   "outputs": [
    {
     "name": "stdout",
     "output_type": "stream",
     "text": [
      "0.87 sec\n",
      "0.01 min\n"
     ]
    }
   ],
   "source": [
    "# Print time taken by program to run. \n",
    "time_s = round((time.time() - start_time), 2)\n",
    "time_m = round((time_s/60), 2)\n",
    "print(time_s,'sec')\n",
    "print(time_m, 'min')"
   ]
  },
  {
   "cell_type": "code",
   "execution_count": null,
   "metadata": {},
   "outputs": [],
   "source": []
  }
 ],
 "metadata": {
  "kernelspec": {
   "display_name": "Python 3",
   "language": "python",
   "name": "python3"
  },
  "language_info": {
   "codemirror_mode": {
    "name": "ipython",
    "version": 3
   },
   "file_extension": ".py",
   "mimetype": "text/x-python",
   "name": "python",
   "nbconvert_exporter": "python",
   "pygments_lexer": "ipython3",
   "version": "3.8.5"
  }
 },
 "nbformat": 4,
 "nbformat_minor": 4
}

{
 "cells": [
  {
   "cell_type": "markdown",
   "metadata": {},
   "source": [
    "### Program written by Scott Midgley, 2021\n",
    "\n",
    "Scope: To train and test LR models for band gap energy screening in the configuraional space of MgO-ZnO solid solutions. "
   ]
  },
  {
   "cell_type": "code",
   "execution_count": 1,
   "metadata": {},
   "outputs": [],
   "source": [
    "### USER INPUT REQUIRED ###\n",
    "\n",
    "# Please paste in the path to the repositiory here an comment/uncomment as needed.\n",
    "# E.g. rundir = r'C:\\Users\\<user>\\Desktop\\repository'\n",
    "\n",
    "# Windows path\n",
    "#repodir = r'<windows\\path\\here>'\n",
    "#repodir = r'C:\\Users\\smidg\\Desktop\\ml\\repository'\n",
    "\n",
    "#Unix path\n",
    "#repodir = '<unix/path/here>'\n",
    "repodir = r'/home/mts87985/ml-thermo/Machine-Learning-for-Solid-Solutions/repository/'"
   ]
  },
  {
   "cell_type": "code",
   "execution_count": 2,
   "metadata": {},
   "outputs": [],
   "source": [
    "### USER INPUT REQUIRED ###\n",
    "\n",
    "# Define percentage of training data to use for training. \n",
    "split = 10\n",
    "#split = 50\n",
    "#split = 80\n",
    "#split = 30"
   ]
  },
  {
   "cell_type": "code",
   "execution_count": 3,
   "metadata": {},
   "outputs": [],
   "source": [
    "# Import modules. \n",
    "import pandas as pd\n",
    "import tensorflow as tf\n",
    "import matplotlib\n",
    "import matplotlib.pyplot as plt\n",
    "import numpy as np\n",
    "from sklearn import preprocessing\n",
    "import pickle\n",
    "import time\n",
    "from sklearn.linear_model import LinearRegression\n",
    "from sklearn.metrics import mean_absolute_error\n",
    "import os\n",
    "from sklearn.linear_model import Lasso"
   ]
  },
  {
   "cell_type": "code",
   "execution_count": 4,
   "metadata": {},
   "outputs": [],
   "source": [
    "# Start program timer.\n",
    "start_time = time.time()"
   ]
  },
  {
   "cell_type": "code",
   "execution_count": 6,
   "metadata": {},
   "outputs": [],
   "source": [
    "# Import data and shuffle (optional).\n",
    "eners = pd.read_pickle(repodir + '/data/input_data.pkl')\n",
    "eners = eners.sample(frac=1)\n",
    "# Split data frame into training, validation, and testing data. \n",
    "if split == int(10):\n",
    "    e_train = eners.iloc[1608:2412] #10% of data for training\n",
    "elif split == int(30):\n",
    "    e_train = eners.iloc[1608:4021] #30% of data for training\n",
    "elif split == int(50):\n",
    "    e_train = eners.iloc[1608:5630] #50% of data for training\n",
    "elif split == int(80):\n",
    "    e_train = eners.iloc[1608:] #80% of data for training\n",
    "else:\n",
    "    print('Error: please choose a valid train/test split.')\n",
    "e_val = eners.iloc[804:1608] #10% of data for validation\n",
    "e_test = eners.iloc[:804] #10% of data for testing model"
   ]
  },
  {
   "cell_type": "code",
   "execution_count": 7,
   "metadata": {},
   "outputs": [],
   "source": [
    "# Convert Pandas columns to Numpy arrays. Reshaping to obtain array of nested brackets. \n",
    "Xtrain = e_train['Coulomb'].to_numpy()\n",
    "ytrain = e_train['BGE'].to_numpy()\n",
    "Xtrain = np.stack(Xtrain)\n",
    "ytrain= np.stack(ytrain) \n",
    "Xval = e_val['Coulomb'].to_numpy()\n",
    "yval = e_val['BGE'].to_numpy()\n",
    "Xval = np.stack(Xval)\n",
    "yval= np.stack(yval)\n",
    "Xtest = e_test['Coulomb'].to_numpy()\n",
    "ytest = e_test['BGE'].to_numpy()\n",
    "Xtest = np.stack(Xtest)\n",
    "ytest = np.stack(ytest)"
   ]
  },
  {
   "cell_type": "code",
   "execution_count": 8,
   "metadata": {},
   "outputs": [
    {
     "name": "stderr",
     "output_type": "stream",
     "text": [
      "/home/mts87985/anaconda3/envs/ml-solid-solns/lib/python3.9/site-packages/sklearn/linear_model/_coordinate_descent.py:530: ConvergenceWarning: Objective did not converge. You might want to increase the number of iterations. Duality gap: 0.46976214990426673, tolerance: 0.0016831740423950625\n",
      "  model = cd_fast.enet_coordinate_descent(\n"
     ]
    },
    {
     "data": {
      "text/plain": [
       "Lasso(alpha=1e-07)"
      ]
     },
     "execution_count": 8,
     "metadata": {},
     "output_type": "execute_result"
    }
   ],
   "source": [
    "# Define Lasso regularizer and train regressor.\n",
    "lasso_reg = Lasso(alpha=0.0000001)\n",
    "lasso_reg.fit(Xtrain, ytrain)"
   ]
  },
  {
   "cell_type": "code",
   "execution_count": 9,
   "metadata": {},
   "outputs": [
    {
     "name": "stdout",
     "output_type": "stream",
     "text": [
      "0.9443051787970326\n",
      "('intercept: ', -175.25765577753444)\n",
      "('coefficient:  ', array([-8.60329940e-04,  6.40826872e-04,  4.35082350e-04, -2.96066718e-04,\n",
      "       -2.83506230e-04, -5.80144979e-04, -7.27910648e-04, -8.16397556e-04,\n",
      "        4.04359055e-04,  1.17676500e-02,  1.13969769e-02,  1.21891241e-02,\n",
      "        1.26823210e-02,  1.29781761e-02,  1.12589481e-02,  0.00000000e+00,\n",
      "        0.00000000e+00,  0.00000000e+00,  0.00000000e+00, -8.11373530e-03,\n",
      "       -1.06897811e-02, -1.77562555e-02, -2.14824461e-02, -3.82400389e-02,\n",
      "       -9.71251240e-03, -5.18971954e-03, -7.44942975e-05,  4.12352355e-03,\n",
      "        2.28100744e-03,  3.38773821e-03,  5.96472600e-03,  3.80467959e-03,\n",
      "        2.25360585e-02, -5.09928134e-02, -4.75486560e-02, -2.51167021e-02,\n",
      "       -2.70248018e-02, -1.47698441e-02, -3.07666352e-02,  6.09201966e-01,\n",
      "        5.90177010e-01,  1.28352023e+00,  0.00000000e+00,  1.57918836e-01,\n",
      "        3.33002556e-01,  3.76858576e-01,  4.30999903e-01,  5.39744009e-01,\n",
      "        4.35627295e-01,  4.10581423e-01,  2.03854470e-01, -0.00000000e+00,\n",
      "        0.00000000e+00,  0.00000000e+00, -0.00000000e+00,  0.00000000e+00,\n",
      "        0.00000000e+00,  0.00000000e+00, -0.00000000e+00, -0.00000000e+00,\n",
      "        0.00000000e+00, -6.89386389e+00,  1.11705104e+00,  2.92266392e+00]))\n"
     ]
    }
   ],
   "source": [
    "# Print parameters.\n",
    "r_sq = (lasso_reg.score(Xtrain, ytrain))\n",
    "inter = ('intercept: ', lasso_reg.intercept_)\n",
    "coef = ('coefficient:  ', lasso_reg.coef_)\n",
    "print(r_sq)\n",
    "print(inter)\n",
    "print(coef)"
   ]
  },
  {
   "cell_type": "code",
   "execution_count": 10,
   "metadata": {},
   "outputs": [],
   "source": [
    "# Test linear regressor.\n",
    "ypred = lasso_reg.predict(Xtest)"
   ]
  },
  {
   "cell_type": "code",
   "execution_count": 11,
   "metadata": {},
   "outputs": [
    {
     "name": "stdout",
     "output_type": "stream",
     "text": [
      "mae =  0.030438837584618614\n"
     ]
    }
   ],
   "source": [
    "# Print metric.\n",
    "mae = (mean_absolute_error(ytest, ypred))\n",
    "print('mae = ', mae)"
   ]
  },
  {
   "cell_type": "code",
   "execution_count": 12,
   "metadata": {},
   "outputs": [
    {
     "data": {
      "text/plain": [
       "Text(0, 0.5, 'Regressor')"
      ]
     },
     "execution_count": 12,
     "metadata": {},
     "output_type": "execute_result"
    },
    {
     "data": {
      "image/png": "[encoded data removed]",
      "text/plain": [
       "<Figure size 432x288 with 1 Axes>"
      ]
     },
     "metadata": {
      "needs_background": "light"
     },
     "output_type": "display_data"
    }
   ],
   "source": [
    "#Plot DFT Band gap energy vs regressor predicted.\n",
    "plt.scatter(ytest, ypred)# plot the predicted versus the actual gaps\n",
    "plt.xlabel('DFT')\n",
    "plt.ylabel('Regressor')\n",
    "#plt.savefig('BGE_pred_vs_val.png')"
   ]
  },
  {
   "cell_type": "code",
   "execution_count": 13,
   "metadata": {},
   "outputs": [
    {
     "name": "stdout",
     "output_type": "stream",
     "text": [
      "113.29 sec\n",
      "1.89 min\n"
     ]
    }
   ],
   "source": [
    "# Print time taken by program to run. \n",
    "time_s = round((time.time() - start_time), 2)\n",
    "time_m = round((time_s/60), 2)\n",
    "print(time_s,'sec')\n",
    "print(time_m, 'min')"
   ]
  },
  {
   "cell_type": "code",
   "execution_count": null,
   "metadata": {},
   "outputs": [],
   "source": []
  }
 ],
 "metadata": {
  "kernelspec": {
   "display_name": "Python 3",
   "language": "python",
   "name": "python3"
  },
  "language_info": {
   "codemirror_mode": {
    "name": "ipython",
    "version": 3
   },
   "file_extension": ".py",
   "mimetype": "text/x-python",
   "name": "python",
   "nbconvert_exporter": "python",
   "pygments_lexer": "ipython3",
   "version": "3.9.4"
  }
 },
 "nbformat": 4,
 "nbformat_minor": 4
}

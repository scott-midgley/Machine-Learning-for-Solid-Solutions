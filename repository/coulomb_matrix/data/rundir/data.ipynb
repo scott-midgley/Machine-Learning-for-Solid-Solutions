{
 "cells": [
  {
   "cell_type": "markdown",
   "metadata": {},
   "source": [
    "### Program written by Scott Midgley, 2021\n",
    "### Scope: To ingest VASP energies from .csv format and generate Coulomb matrix eigenspectrum from POSCAR structure files. Output              saved as .pkl file, ready for machine learning models."
   ]
  },
  {
   "cell_type": "code",
   "execution_count": 1,
   "metadata": {},
   "outputs": [],
   "source": [
    "### USER INPUT REQUIRED ###\n",
    "\n",
    "# Please paste in the path to the repositiory here an comment/uncomment as needed.\n",
    "# E.g. rundir = r'C:\\Users\\<user>\\Desktop\\repository'\n",
    "\n",
    "# Windows path\n",
    "#repodir = r'<windows\\path\\here>'\n",
    "repodir = r'C:\\Users\\smidg\\Desktop\\ml\\repository'\n",
    "\n",
    "#Unix path\n",
    "#repodir = '<unix/path/here>'"
   ]
  },
  {
   "cell_type": "code",
   "execution_count": 2,
   "metadata": {},
   "outputs": [],
   "source": [
    "# Import modules.\n",
    "import pandas as pd\n",
    "import os\n",
    "import numpy as np\n",
    "from pymatgen import Structure\n",
    "from matminer.featurizers import structure as sf\n",
    "import time"
   ]
  },
  {
   "cell_type": "code",
   "execution_count": 3,
   "metadata": {},
   "outputs": [],
   "source": [
    "# Start program timer.\n",
    "start_time = time.time()"
   ]
  },
  {
   "cell_type": "code",
   "execution_count": 4,
   "metadata": {},
   "outputs": [],
   "source": [
    "# Change directory to rundir\n",
    "os.chdir(repodir)\n",
    "os.chdir('coulomb_matrix')\n",
    "os.chdir('data')\n",
    "os.chdir('rundir')\n",
    "rundir = os.getcwd()"
   ]
  },
  {
   "cell_type": "code",
   "execution_count": 5,
   "metadata": {},
   "outputs": [],
   "source": [
    "# Read DFT derived energies from .csv file to data frame.\n",
    "os.chdir('..')\n",
    "os.chdir('datadir')\n",
    "energies = pd.read_csv(\"vasp-energies.csv\", header=None)\n",
    "energies.columns = ['SCF Energy', 'BGE']"
   ]
  },
  {
   "cell_type": "code",
   "execution_count": 6,
   "metadata": {},
   "outputs": [],
   "source": [
    "# Go to structure file directory.\n",
    "os.chdir('structure_files')\n",
    "cwd = os.getcwd()"
   ]
  },
  {
   "cell_type": "code",
   "execution_count": 7,
   "metadata": {},
   "outputs": [
    {
     "name": "stderr",
     "output_type": "stream",
     "text": [
      "C:\\Users\\smidg\\anaconda3\\lib\\site-packages\\pymatgen\\io\\vasp\\inputs.py:401: UserWarning: Elements in POSCAR cannot be determined. Defaulting to false names H H H H H H H H He He He He He He He He He He He He He He He He He He He He He He He He Li Li Li Li Li Li Li Li Li Li Li Li Li Li Li Li Li Li Li Li Li Li Li Li Li Li Li Li Li Li Li Li.\n",
      "  warnings.warn(\n"
     ]
    },
    {
     "name": "stdout",
     "output_type": "stream",
     "text": [
      "Number of matrices read:  10\n"
     ]
    }
   ],
   "source": [
    "# Iterate over structures in structure directory, generating CME for each configuration.\n",
    "cm_list = []\n",
    "files = [f for f in os.listdir('.') if os.path.isfile(f)]\n",
    "for f in files:\n",
    "    struct = Structure.from_file(f)\n",
    "    cm = sf.CoulombMatrix()\n",
    "    fitted_matrix = cm.fit([struct])\n",
    "    featurized_structure = fitted_matrix.featurize(struct)\n",
    "    cm_list.append(np.sort(featurized_structure)[::-1])\n",
    "print('Number of matrices read: ', len(cm_list))"
   ]
  },
  {
   "cell_type": "code",
   "execution_count": 8,
   "metadata": {},
   "outputs": [],
   "source": [
    "os.chdir('..')\n",
    "os.chdir('..')\n",
    "os.chdir('rundir')"
   ]
  },
  {
   "cell_type": "code",
   "execution_count": 9,
   "metadata": {},
   "outputs": [],
   "source": [
    "# Add CME's to data frame with DFT energies. \n",
    "ener = energies.iloc[:len(cm_list)]\n",
    "ener[\"Coulomb\"] = cm_list"
   ]
  },
  {
   "cell_type": "code",
   "execution_count": 10,
   "metadata": {},
   "outputs": [],
   "source": [
    "# Shuffle data frame (optional).\n",
    "ener = ener.sample(frac=1)"
   ]
  },
  {
   "cell_type": "code",
   "execution_count": 11,
   "metadata": {},
   "outputs": [],
   "source": [
    "# Save data frame to .pkl file.\n",
    "ener.to_pickle('input_data.pkl')"
   ]
  },
  {
   "cell_type": "code",
   "execution_count": 12,
   "metadata": {},
   "outputs": [
    {
     "name": "stdout",
     "output_type": "stream",
     "text": [
      "2.5 sec\n",
      "0.04 min\n"
     ]
    }
   ],
   "source": [
    "# Print time taken by program to run. \n",
    "time_s = round((time.time() - start_time), 2)\n",
    "time_m = round((time_s/60), 2)\n",
    "print(time_s,'sec')\n",
    "print(time_m, 'min')"
   ]
  }
 ],
 "metadata": {
  "kernelspec": {
   "display_name": "Python 3",
   "language": "python",
   "name": "python3"
  },
  "language_info": {
   "codemirror_mode": {
    "name": "ipython",
    "version": 3
   },
   "file_extension": ".py",
   "mimetype": "text/x-python",
   "name": "python",
   "nbconvert_exporter": "python",
   "pygments_lexer": "ipython3",
   "version": "3.8.5"
  }
 },
 "nbformat": 4,
 "nbformat_minor": 4
}

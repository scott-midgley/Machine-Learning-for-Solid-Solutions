{
 "cells": [
  {
   "cell_type": "markdown",
   "metadata": {},
   "source": [
    "### Program written by Scott Midgley, 2021\n",
    "Scope: To train and test LR models for mixing energy screening in the configuraional space of MgO-ZnO solid solutions. "
   ]
  },
  {
   "cell_type": "code",
   "execution_count": 1,
   "metadata": {},
   "outputs": [],
   "source": [
    "### USER INPUT REQUIRED ###\n",
    "\n",
    "# Please paste in the path to the repositiory here an comment/uncomment as needed.\n",
    "# E.g. rundir = r'C:\\Users\\<user>\\Desktop\\repository'\n",
    "\n",
    "# Windows path\n",
    "#repodir = r'<windows\\path\\here>'\n",
    "#repodir = r'C:\\Users\\smidg\\Desktop\\ml\\repository'\n",
    "\n",
    "#Unix path\n",
    "repodir = r'/home/mts87985/ml-thermo/Machine-Learning-for-Solid-Solutions/'"
   ]
  },
  {
   "cell_type": "code",
   "execution_count": 2,
   "metadata": {},
   "outputs": [],
   "source": [
    "### USER INPUT REQUIRED ###\n",
    "\n",
    "# Define percentage of training data to use for training. \n",
    "split = 10\n",
    "#split = 50\n",
    "#split = 80\n",
    "#split = 30"
   ]
  },
  {
   "cell_type": "code",
   "execution_count": 3,
   "metadata": {},
   "outputs": [],
   "source": [
    "# Import modules. \n",
    "import pandas as pd\n",
    "import tensorflow as tf\n",
    "import matplotlib\n",
    "import matplotlib.pyplot as plt\n",
    "import numpy as np\n",
    "from sklearn import preprocessing\n",
    "import pickle\n",
    "import os\n",
    "import time\n",
    "from sklearn.linear_model import LinearRegression\n",
    "from sklearn.metrics import mean_absolute_error\n",
    "from sklearn.linear_model import Lasso\n",
    "from sklearn.metrics import mean_squared_error\n",
    "import os"
   ]
  },
  {
   "cell_type": "markdown",
   "metadata": {},
   "source": [
    "## Load the data\n",
    "\n",
    "Note we do not shuffle in this case. The data was shuffled when created and we are keeping it un-shuffled here so that the order is the same as that used in the paper. However, you are free to add a shuffle if you like."
   ]
  },
  {
   "cell_type": "code",
   "execution_count": 4,
   "metadata": {},
   "outputs": [],
   "source": [
    "# Import data and shuffle (optional).\n",
    "eners = pd.read_pickle(repodir + 'repository-data/cluster_correlation_functions/input_data_ccf.pkl')\n",
    "#eners = eners.sample(frac=1)"
   ]
  },
  {
   "cell_type": "code",
   "execution_count": 5,
   "metadata": {},
   "outputs": [],
   "source": [
    "# Calculate mixing energies based on total DFT energy of phase separated end members. Add emix to data frame.  \n",
    "Emg_end = -381.17925146/32\n",
    "Ezn_end = -317.49620269/36\n",
    "Emg_end = 24 * Emg_end\n",
    "Ezn_end = 8 * Ezn_end\n",
    "emix = eners['SCF'] - (Emg_end + Ezn_end)\n",
    "eners['Emix'] = emix"
   ]
  },
  {
   "cell_type": "code",
   "execution_count": 6,
   "metadata": {},
   "outputs": [],
   "source": [
    "# Split data frame into training, validation, and testing data. \n",
    "if split == int(10):\n",
    "    e_train = eners.iloc[1608:2412] #10% of data for training\n",
    "elif split == int(30):\n",
    "    e_train = eners.iloc[1608:4021] #30% of data for training\n",
    "elif split == int(50):\n",
    "    e_train = eners.iloc[1608:5630] #50% of data for training\n",
    "elif split == int(80):\n",
    "    e_train = eners.iloc[1608:] #80% of data for training\n",
    "else:\n",
    "    print('Error: please choose a valid train/test split.')\n",
    "e_val = eners.iloc[804:1608] #10% of data for validation\n",
    "e_test = eners.iloc[:804] #10% of data for testing model"
   ]
  },
  {
   "cell_type": "code",
   "execution_count": 7,
   "metadata": {},
   "outputs": [],
   "source": [
    "# Convert Pandas columns to Numpy arrays. Reshaping to obtain array of nested brackets. \n",
    "Xtrain = e_train['cf_vector'].to_numpy()\n",
    "ytrain = e_train['Emix'].to_numpy()\n",
    "Xtrain = np.stack(Xtrain)\n",
    "ytrain= np.stack(ytrain) \n",
    "Xval = e_val['cf_vector'].to_numpy()\n",
    "yval = e_val['Emix'].to_numpy()\n",
    "Xval = np.stack(Xval)\n",
    "yval= np.stack(yval)\n",
    "Xtest = e_test['cf_vector'].to_numpy()\n",
    "ytest = e_test['Emix'].to_numpy()\n",
    "Xtest = np.stack(Xtest)\n",
    "ytest = np.stack(ytest)"
   ]
  },
  {
   "cell_type": "code",
   "execution_count": 8,
   "metadata": {},
   "outputs": [
    {
     "name": "stderr",
     "output_type": "stream",
     "text": [
      "/home/mts87985/anaconda3/envs/ml-solid-solns/lib/python3.9/site-packages/sklearn/linear_model/_coordinate_descent.py:530: ConvergenceWarning: Objective did not converge. You might want to increase the number of iterations. Duality gap: 0.12275474749713666, tolerance: 7.849609031695078e-05\n",
      "  model = cd_fast.enet_coordinate_descent(\n"
     ]
    },
    {
     "data": {
      "text/plain": [
       "Lasso(alpha=1e-06)"
      ]
     },
     "execution_count": 8,
     "metadata": {},
     "output_type": "execute_result"
    }
   ],
   "source": [
    "# Define Lasso regularized regressor. \n",
    "lasso_reg = Lasso(alpha=0.000001)\n",
    "lasso_reg.fit(Xtrain, ytrain)"
   ]
  },
  {
   "cell_type": "code",
   "execution_count": 9,
   "metadata": {},
   "outputs": [
    {
     "name": "stdout",
     "output_type": "stream",
     "text": [
      "('R^2:  ', 0.6190614588865937)\n",
      "('intercept: ', 2.4053495473728876)\n",
      "('coefficient:  ', array([-1.83592624e-05, -1.65489743e-03, -2.40338743e-03,  5.49897340e-06,\n",
      "       -2.63430830e-04,  1.34988160e-03, -4.79486111e-05,  1.60635051e-04,\n",
      "       -5.28264207e-04,  8.44782172e-05,  3.28519834e-04,  1.43184987e-06,\n",
      "       -1.59932809e-04,  7.96734799e-04, -1.09521843e-04,  3.23356899e-05,\n",
      "        5.21240393e-04, -5.90689032e-05, -1.32607310e-04,  5.69238102e-05,\n",
      "        1.10667038e-03,  6.68928946e-05, -2.28946246e-04, -3.01254037e-05,\n",
      "       -1.42116619e-04,  1.49364871e-04, -2.99608318e-04,  1.42012486e-04,\n",
      "       -2.62487716e-05,  3.25540911e-04, -7.57235330e-05,  7.83736659e-05,\n",
      "        1.54114531e-04, -1.13389665e-04, -1.09761857e-05, -1.34752248e-04,\n",
      "       -2.91787742e-05,  6.22260365e-05, -1.47340279e-05,  2.56269243e-04,\n",
      "       -1.73597147e-04, -3.58327149e-04, -1.61689433e-04, -3.67923811e-04,\n",
      "       -5.38587088e-05, -2.67263468e-06, -1.34429456e-04, -4.66887607e-05,\n",
      "        7.53869328e-06,  9.26753970e-06,  2.82294528e-04, -2.82796881e-04,\n",
      "        1.68106106e-04,  1.90197816e-04,  4.98593049e-04,  2.39209203e-04,\n",
      "       -3.72011627e-04, -6.02874180e-04, -7.61379330e-05,  2.12114721e-06,\n",
      "       -8.16259403e-06,  5.30719542e-05,  2.86698713e-04, -1.94196529e-04,\n",
      "        1.23537849e-04,  3.10597603e-04, -5.57226500e-05,  4.84808911e-05,\n",
      "       -9.23891376e-06, -1.42597837e-04,  2.13244165e-05, -3.21657411e-05,\n",
      "        1.67324611e-05, -1.10869398e-04, -9.36748773e-05,  1.39781873e-04,\n",
      "       -3.58119194e-05, -2.11515556e-04, -5.56472196e-05, -1.49919950e-04,\n",
      "       -2.97756216e-04, -7.22963051e-05,  6.58473482e-05,  2.89491682e-05,\n",
      "       -5.16211027e-04,  4.42479832e-04, -1.70000015e-04,  2.29312721e-04,\n",
      "       -2.27828811e-04,  2.39848574e-04,  3.46124872e-04]))\n"
     ]
    }
   ],
   "source": [
    "# Print regressor metrics.\n",
    "r_sq = ('R^2:  ', lasso_reg.score(Xtrain, ytrain))\n",
    "inter = ('intercept: ', lasso_reg.intercept_)\n",
    "coef = ('coefficient:  ', lasso_reg.coef_)\n",
    "print(r_sq)\n",
    "print(inter)\n",
    "print(coef)"
   ]
  },
  {
   "cell_type": "code",
   "execution_count": 10,
   "metadata": {},
   "outputs": [],
   "source": [
    "# Test the regressor. \n",
    "ypred = lasso_reg.predict(Xtest)"
   ]
  },
  {
   "cell_type": "code",
   "execution_count": 11,
   "metadata": {},
   "outputs": [
    {
     "name": "stdout",
     "output_type": "stream",
     "text": [
      "mae =  ('MAE:  ', 0.026516918360388903)\n"
     ]
    }
   ],
   "source": [
    "# Add metrics to data frame. \n",
    "mae = ('MAE:  ', mean_absolute_error(ytest, ypred))\n",
    "print('mae = ', mae)"
   ]
  },
  {
   "cell_type": "code",
   "execution_count": 12,
   "metadata": {},
   "outputs": [
    {
     "data": {
      "text/plain": [
       "Text(0, 0.5, 'Regressor')"
      ]
     },
     "execution_count": 12,
     "metadata": {},
     "output_type": "execute_result"
    },
    {
     "data": {
      "image/png": "[encoded data removed]",
      "text/plain": [
       "<Figure size 432x288 with 1 Axes>"
      ]
     },
     "metadata": {
      "needs_background": "light"
     },
     "output_type": "display_data"
    }
   ],
   "source": [
    "#Plot DFT mixing energy vs regressor predicted.\n",
    "plt.scatter(ytest, ypred)\n",
    "plt.xlabel('DFT')\n",
    "plt.ylabel('Regressor')\n",
    "#plt.savefig('BGE_pred_vs_val.png')"
   ]
  },
  {
   "cell_type": "code",
   "execution_count": null,
   "metadata": {},
   "outputs": [],
   "source": []
  }
 ],
 "metadata": {
  "kernelspec": {
   "display_name": "Python 3",
   "language": "python",
   "name": "python3"
  },
  "language_info": {
   "codemirror_mode": {
    "name": "ipython",
    "version": 3
   },
   "file_extension": ".py",
   "mimetype": "text/x-python",
   "name": "python",
   "nbconvert_exporter": "python",
   "pygments_lexer": "ipython3",
   "version": "3.9.4"
  }
 },
 "nbformat": 4,
 "nbformat_minor": 4
}

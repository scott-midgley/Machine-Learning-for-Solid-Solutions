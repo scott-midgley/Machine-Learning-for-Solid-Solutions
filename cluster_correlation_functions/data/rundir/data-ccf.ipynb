{
 "cells": [
  {
   "cell_type": "markdown",
   "metadata": {},
   "source": [
    "### Program written by Scott Midgley, 2021\n",
    "Scope: To ingest VASP energies from .csv format and combine with cluster correlation functions generated via the Chebyshev           method. Output saved as .pkl file, ready for machine learning models."
   ]
  },
  {
   "cell_type": "code",
   "execution_count": 1,
   "metadata": {},
   "outputs": [],
   "source": [
    "### USER INPUT REQUIRED ###\n",
    "\n",
    "# Please paste in the path to the repositiory here an comment/uncomment as needed.\n",
    "# E.g. rundir = r'C:\\Users\\<user>\\Desktop\\repository'\n",
    "\n",
    "# Windows path\n",
    "#repodir = r'<windows\\path\\here>'\n",
    "#repodir = r'C:\\Users\\smidg\\Desktop\\ml\\repository'\n",
    "\n",
    "# Unix path\n",
    "repodir = r'/home/mts87985/ml-thermo/Machine-Learning-for-Solid-Solutions/'"
   ]
  },
  {
   "cell_type": "code",
   "execution_count": 2,
   "metadata": {},
   "outputs": [],
   "source": [
    "# Import modules. \n",
    "import pandas as pd\n",
    "import tensorflow as tf\n",
    "import matplotlib\n",
    "import matplotlib.pyplot as plt\n",
    "import numpy as np\n",
    "from sklearn import preprocessing\n",
    "import pickle\n",
    "import time\n",
    "from sklearn.linear_model import LinearRegression\n",
    "from sklearn.metrics import mean_absolute_error\n",
    "import os"
   ]
  },
  {
   "cell_type": "code",
   "execution_count": 3,
   "metadata": {},
   "outputs": [],
   "source": [
    "# Read DFT derived energies from .csv file to data frame.\n",
    "energies = pd.read_csv(repodir + \"repository-data/vasp-energies.csv\", header=None)\n",
    "energies.columns = ['SCF', 'BGE']"
   ]
  },
  {
   "cell_type": "code",
   "execution_count": 4,
   "metadata": {},
   "outputs": [],
   "source": [
    "# Read in cluster correaltion function data. \n",
    "df = pd.read_csv(repodir + 'repository-data/cluster_correlation_functions/correlationmatrix_chebyshev.csv')"
   ]
  },
  {
   "cell_type": "code",
   "execution_count": 5,
   "metadata": {},
   "outputs": [],
   "source": [
    "# Convert pandas rows to list of values. \n",
    "df_list = df.values.tolist()\n",
    "df['cf_vector'] = df_list"
   ]
  },
  {
   "cell_type": "code",
   "execution_count": 6,
   "metadata": {},
   "outputs": [],
   "source": [
    "# Join energies and CCF data frames, and shuffle (optional). \n",
    "df3 = pd.concat([df, energies], axis=1, sort=False)\n",
    "#df3 = df3.sample(frac=1)"
   ]
  },
  {
   "cell_type": "code",
   "execution_count": 7,
   "metadata": {},
   "outputs": [],
   "source": [
    "df3.to_pickle('input_data_ccf.pkl')"
   ]
  },
  {
   "cell_type": "code",
   "execution_count": null,
   "metadata": {},
   "outputs": [],
   "source": []
  }
 ],
 "metadata": {
  "kernelspec": {
   "display_name": "Python 3",
   "language": "python",
   "name": "python3"
  },
  "language_info": {
   "codemirror_mode": {
    "name": "ipython",
    "version": 3
   },
   "file_extension": ".py",
   "mimetype": "text/x-python",
   "name": "python",
   "nbconvert_exporter": "python",
   "pygments_lexer": "ipython3",
   "version": "3.9.4"
  }
 },
 "nbformat": 4,
 "nbformat_minor": 4
}

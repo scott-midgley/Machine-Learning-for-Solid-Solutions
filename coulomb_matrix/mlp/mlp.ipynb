{
 "cells": [
  {
   "cell_type": "markdown",
   "metadata": {},
   "source": [
    "### Program written by Scott Midgley, 2021\n",
    " Scope: To train and test MLP models for band gap energy screening in the configuraional space of MgO-ZnO solid solutions. "
   ]
  },
  {
   "cell_type": "code",
   "execution_count": 1,
   "metadata": {},
   "outputs": [],
   "source": [
    "### USER INPUT REQUIRED ###\n",
    "\n",
    "# Please paste in the path to the repositiory here an comment/uncomment as needed.\n",
    "# E.g. rundir = r'C:\\Users\\<user>\\Desktop\\repository'\n",
    "\n",
    "# Windows path\n",
    "#repodir = r'<windows\\path\\here>'\n",
    "\n",
    "#Unix path\n",
    "#repodir = '<unix/path/here>'\n",
    "repodir = r'/home/mts87985/ml-thermo/Machine-Learning-for-Solid-Solutions/'"
   ]
  },
  {
   "cell_type": "code",
   "execution_count": 2,
   "metadata": {},
   "outputs": [],
   "source": [
    "### USER INPUT REQUIRED ###\n",
    "\n",
    "# Define percentage of training data to use for training. \n",
    "split = 10\n",
    "#split = 50\n",
    "#split = 80\n",
    "#split = 30"
   ]
  },
  {
   "cell_type": "code",
   "execution_count": 3,
   "metadata": {},
   "outputs": [],
   "source": [
    "# Import modules.\n",
    "import pandas as pd\n",
    "import tensorflow as tf\n",
    "from tensorflow import keras\n",
    "import matplotlib.pyplot as plt\n",
    "import numpy as np\n",
    "from sklearn import preprocessing\n",
    "from tensorflow.keras import Sequential\n",
    "from tensorflow.keras.layers import Dense\n",
    "from tensorflow.keras.layers import BatchNormalization, Dropout\n",
    "from tensorflow.keras.optimizers import Adam #Stochasic gradient descent method optimising weights and activations\n",
    "import copy\n",
    "from tensorflow.keras.callbacks import ModelCheckpoint\n",
    "import time\n",
    "from sklearn.metrics import mean_absolute_error\n",
    "from tensorflow.keras.callbacks import EarlyStopping\n",
    "import pickle\n",
    "import os"
   ]
  },
  {
   "cell_type": "code",
   "execution_count": 4,
   "metadata": {},
   "outputs": [],
   "source": [
    "def mlp_shallow(dropout_rate=0.1):\n",
    "    # Define MLP architecture. \n",
    "    model = Sequential()\n",
    "    model.add(Dense(64, input_dim=Xtrain[0].shape[0], activation='relu'))\n",
    "    model.add(BatchNormalization())\n",
    "    if dropout_rate > 0:\n",
    "        model.add(Dropout(dropout_rate))\n",
    "    model.add(Dense(32, activation='relu'))\n",
    "    model.add(BatchNormalization())\n",
    "    if dropout_rate > 0:\n",
    "        model.add(Dropout(dropout_rate))\n",
    "    model.add(Dense(1, activation='linear'))\n",
    "    return model\n",
    "    \n",
    "def mlp_deep(dropout_rate=0.1):\n",
    "    model = Sequential()\n",
    "    model.add(Dense(256, input_dim=Xtrain[0].shape[0], activation='relu')) #Set 128 standard neurons with relu initial activation\n",
    "    model.add(BatchNormalization())\n",
    "    if dropout_rate > 0:\n",
    "        model.add(Dropout(dropout_rate))\n",
    "    model.add(Dense(128, activation='relu'))\n",
    "    model.add(BatchNormalization())\n",
    "    if dropout_rate > 0:\n",
    "        model.add(Dropout(dropout_rate))\n",
    "    model.add(Dense(64, activation='relu'))\n",
    "    model.add(BatchNormalization())\n",
    "    if dropout_rate > 0:\n",
    "        model.add(Dropout(dropout_rate))\n",
    "    model.add(Dense(32, activation='relu'))\n",
    "    model.add(BatchNormalization())\n",
    "    if dropout_rate > 0:\n",
    "        model.add(Dropout(dropout_rate))\n",
    "    model.add(Dense(1, activation='linear'))\n",
    "    return model\n",
    "    "
   ]
  },
  {
   "cell_type": "code",
   "execution_count": 5,
   "metadata": {},
   "outputs": [],
   "source": [
    "# Clear any existing Tensorflow data from cache.\n",
    "tf.keras.backend.clear_session()"
   ]
  },
  {
   "cell_type": "markdown",
   "metadata": {},
   "source": [
    "## Load the data\n",
    "\n",
    "Note we do not shuffle in this case. The data was shuffled when created and we are keeping it un-shuffled here so that the order is the same as that used in the paper. However, you are free to add a shuffle if you like."
   ]
  },
  {
   "cell_type": "code",
   "execution_count": 6,
   "metadata": {},
   "outputs": [],
   "source": [
    "# Import data and shuffle (optional).\n",
    "eners = pd.read_pickle(repodir + 'repository-data/coulomb_matrix/input_data_cme.pkl')\n",
    "#eners = eners.sample(frac=1)"
   ]
  },
  {
   "cell_type": "code",
   "execution_count": 7,
   "metadata": {},
   "outputs": [],
   "source": [
    "# Split data frame into training, validation, and testing data. \n",
    "if split == int(10):\n",
    "    e_train = eners.iloc[1608:2412] #10% of data for training\n",
    "elif split == int(30):\n",
    "    e_train = eners.iloc[1608:4021] #30% of data for training\n",
    "elif split == int(50):\n",
    "    e_train = eners.iloc[1608:5630] #50% of data for training\n",
    "elif split == int(80):\n",
    "    e_train = eners.iloc[1608:] #80% of data for training\n",
    "else:\n",
    "    print('Error: please choose a valid train/test split.')\n",
    "e_val = eners.iloc[804:1608] #10% of data for validation\n",
    "e_test = eners.iloc[:804] #10% of data for testing model"
   ]
  },
  {
   "cell_type": "code",
   "execution_count": 8,
   "metadata": {},
   "outputs": [
    {
     "name": "stdout",
     "output_type": "stream",
     "text": [
      "Number of training data points =  804\n"
     ]
    }
   ],
   "source": [
    "# Print number of training data points\n",
    "print('Number of training data points = ', len(e_train))\n",
    "# Convert Pandas columns to Numpy arrays. Reshaping to obtain array of nested brackets. \n",
    "Xtrain = e_train['Coulomb'].to_numpy()\n",
    "ytrain = e_train['BGE'].to_numpy()\n",
    "Xtrain = np.stack(Xtrain)\n",
    "ytrain= np.stack(ytrain) \n",
    "Xval = e_val['Coulomb'].to_numpy()\n",
    "yval = e_val['BGE'].to_numpy()\n",
    "Xval = np.stack(Xval)\n",
    "yval= np.stack(yval)\n",
    "Xtest = e_test['Coulomb'].to_numpy()\n",
    "ytest = e_test['BGE'].to_numpy()\n",
    "Xtest = np.stack(Xtest)\n",
    "ytest = np.stack(ytest)"
   ]
  },
  {
   "cell_type": "markdown",
   "metadata": {},
   "source": [
    "## Load a pre-trained model\n",
    "\n",
    "In the first instance we can load a pre-trained model and test how it works.\n",
    "\n",
    "The model weights are available in the Zenodo repo. If you download them and follow the directions saved weights will now be in `data/weights/`.\n",
    "\n",
    "The models available are:\n",
    "* Trained on 10% data: `mlp-10.h5`\n",
    "* Trained on 30% data: `mlp-30.h5`\n",
    "* Trained on 50% data: `mlp-50.h5`\n",
    "* Trained on 80% data: `mlp-80.h5`"
   ]
  },
  {
   "cell_type": "code",
   "execution_count": 9,
   "metadata": {},
   "outputs": [
    {
     "name": "stdout",
     "output_type": "stream",
     "text": [
      "Model: \"sequential\"\n",
      "_________________________________________________________________\n",
      "Layer (type)                 Output Shape              Param #   \n",
      "=================================================================\n",
      "dense (Dense)                (None, 256)               16640     \n",
      "_________________________________________________________________\n",
      "batch_normalization (BatchNo (None, 256)               1024      \n",
      "_________________________________________________________________\n",
      "dropout (Dropout)            (None, 256)               0         \n",
      "_________________________________________________________________\n",
      "dense_1 (Dense)              (None, 128)               32896     \n",
      "_________________________________________________________________\n",
      "batch_normalization_1 (Batch (None, 128)               512       \n",
      "_________________________________________________________________\n",
      "dropout_1 (Dropout)          (None, 128)               0         \n",
      "_________________________________________________________________\n",
      "dense_2 (Dense)              (None, 64)                8256      \n",
      "_________________________________________________________________\n",
      "batch_normalization_2 (Batch (None, 64)                256       \n",
      "_________________________________________________________________\n",
      "dropout_2 (Dropout)          (None, 64)                0         \n",
      "_________________________________________________________________\n",
      "dense_3 (Dense)              (None, 32)                2080      \n",
      "_________________________________________________________________\n",
      "batch_normalization_3 (Batch (None, 32)                128       \n",
      "_________________________________________________________________\n",
      "dropout_3 (Dropout)          (None, 32)                0         \n",
      "_________________________________________________________________\n",
      "dense_4 (Dense)              (None, 1)                 33        \n",
      "=================================================================\n",
      "Total params: 61,825\n",
      "Trainable params: 60,865\n",
      "Non-trainable params: 960\n",
      "_________________________________________________________________\n"
     ]
    }
   ],
   "source": [
    "model = keras.models.load_model(repodir + 'repository-data/coulomb_matrix/mlp_trained_models/mlp-10.h5')\n",
    "model.summary()"
   ]
  },
  {
   "cell_type": "markdown",
   "metadata": {},
   "source": [
    "### Try this model on the test set"
   ]
  },
  {
   "cell_type": "code",
   "execution_count": 10,
   "metadata": {},
   "outputs": [
    {
     "name": "stdout",
     "output_type": "stream",
     "text": [
      "mae =  0.01421831452156182\n"
     ]
    }
   ],
   "source": [
    "# Test model. \n",
    "ypred = model.predict(Xtest)\n",
    "# Print metric.\n",
    "mae = (mean_absolute_error(ytest, ypred))\n",
    "print('mae = ', mae)"
   ]
  },
  {
   "cell_type": "code",
   "execution_count": 11,
   "metadata": {},
   "outputs": [
    {
     "data": {
      "text/plain": [
       "Text(0, 0.5, 'MLP')"
      ]
     },
     "execution_count": 11,
     "metadata": {},
     "output_type": "execute_result"
    },
    {
     "data": {
      "image/png": "[encoded data removed]",
      "text/plain": [
       "<Figure size 432x288 with 1 Axes>"
      ]
     },
     "metadata": {
      "needs_background": "light"
     },
     "output_type": "display_data"
    }
   ],
   "source": [
    "#Plot DFT Band gap energy vs regressor predicted.\n",
    "plt.scatter(ytest, ypred)# plot the predicted versus the actual gaps\n",
    "plt.xlabel('DFT')\n",
    "plt.ylabel('MLP')"
   ]
  },
  {
   "cell_type": "markdown",
   "metadata": {},
   "source": [
    "## Train a model from scrach \n",
    "\n",
    "You can retrain a new model on any amount of the data that you would like to use.\n",
    "Note - the model will probably take around 8000 epochs to reach the stopping creteria prescribed below (these are the criteria used in the paper).\n",
    "\n",
    "You can build either the shallow or the deep network using the `shallow_mlp` and `deep_mlp` functions respectively."
   ]
  },
  {
   "cell_type": "code",
   "execution_count": 31,
   "metadata": {},
   "outputs": [],
   "source": [
    "# Define MLP architecture. \n",
    "model = mlp_deep(dropout_rate=0.3)"
   ]
  },
  {
   "cell_type": "code",
   "execution_count": 32,
   "metadata": {},
   "outputs": [
    {
     "name": "stdout",
     "output_type": "stream",
     "text": [
      "Model: \"sequential\"\n",
      "_________________________________________________________________\n",
      "Layer (type)                 Output Shape              Param #   \n",
      "=================================================================\n",
      "dense (Dense)                (None, 256)               16640     \n",
      "_________________________________________________________________\n",
      "batch_normalization (BatchNo (None, 256)               1024      \n",
      "_________________________________________________________________\n",
      "dropout (Dropout)            (None, 256)               0         \n",
      "_________________________________________________________________\n",
      "dense_1 (Dense)              (None, 128)               32896     \n",
      "_________________________________________________________________\n",
      "batch_normalization_1 (Batch (None, 128)               512       \n",
      "_________________________________________________________________\n",
      "dropout_1 (Dropout)          (None, 128)               0         \n",
      "_________________________________________________________________\n",
      "dense_2 (Dense)              (None, 64)                8256      \n",
      "_________________________________________________________________\n",
      "batch_normalization_2 (Batch (None, 64)                256       \n",
      "_________________________________________________________________\n",
      "dropout_2 (Dropout)          (None, 64)                0         \n",
      "_________________________________________________________________\n",
      "dense_3 (Dense)              (None, 32)                2080      \n",
      "_________________________________________________________________\n",
      "batch_normalization_3 (Batch (None, 32)                128       \n",
      "_________________________________________________________________\n",
      "dropout_3 (Dropout)          (None, 32)                0         \n",
      "_________________________________________________________________\n",
      "dense_4 (Dense)              (None, 1)                 33        \n",
      "=================================================================\n",
      "Total params: 61,825\n",
      "Trainable params: 60,865\n",
      "Non-trainable params: 960\n",
      "_________________________________________________________________\n"
     ]
    }
   ],
   "source": [
    "# Summarize model trainable parameters. \n",
    "model.summary()"
   ]
  },
  {
   "cell_type": "code",
   "execution_count": 33,
   "metadata": {},
   "outputs": [],
   "source": [
    "# Define early stopping parameters. \n",
    "stopping =  EarlyStopping(monitor='val_mae', patience=750, verbose=0, mode='auto', restore_best_weights=True)"
   ]
  },
  {
   "cell_type": "code",
   "execution_count": 34,
   "metadata": {},
   "outputs": [],
   "source": [
    "# Define MLP hyperparameters. \n",
    "ad = Adam(learning_rate=1e-4, beta_1=0.9, beta_2=0.999, amsgrad=False) # Model creation\n",
    "model.compile(loss='mae', optimizer=ad, metrics=['mae']) # Model config"
   ]
  },
  {
   "cell_type": "code",
   "execution_count": 35,
   "metadata": {},
   "outputs": [
    {
     "name": "stdout",
     "output_type": "stream",
     "text": [
      "Epoch 1/100\n",
      "4/4 [==============================] - 2s 205ms/step - loss: 3.4231 - mae: 3.4231 - val_loss: 95.9755 - val_mae: 95.9755\n",
      "Epoch 2/100\n",
      "4/4 [==============================] - 0s 68ms/step - loss: 3.4259 - mae: 3.4259 - val_loss: 79.4755 - val_mae: 79.4755\n",
      "Epoch 3/100\n",
      "4/4 [==============================] - 0s 60ms/step - loss: 3.3886 - mae: 3.3886 - val_loss: 67.9184 - val_mae: 67.9184\n",
      "Epoch 4/100\n",
      "4/4 [==============================] - 0s 86ms/step - loss: 3.4752 - mae: 3.4752 - val_loss: 59.9841 - val_mae: 59.9841\n",
      "Epoch 5/100\n",
      "4/4 [==============================] - 0s 60ms/step - loss: 3.4194 - mae: 3.4194 - val_loss: 54.1360 - val_mae: 54.1360\n",
      "Epoch 6/100\n",
      "4/4 [==============================] - 0s 64ms/step - loss: 3.4483 - mae: 3.4483 - val_loss: 50.4731 - val_mae: 50.4731\n",
      "Epoch 7/100\n",
      "4/4 [==============================] - 0s 66ms/step - loss: 3.4402 - mae: 3.4402 - val_loss: 46.7528 - val_mae: 46.7528\n",
      "Epoch 8/100\n",
      "4/4 [==============================] - 0s 61ms/step - loss: 3.3726 - mae: 3.3726 - val_loss: 44.1826 - val_mae: 44.1826\n",
      "Epoch 9/100\n",
      "4/4 [==============================] - 0s 104ms/step - loss: 3.4546 - mae: 3.4546 - val_loss: 41.5335 - val_mae: 41.5335\n",
      "Epoch 10/100\n",
      "4/4 [==============================] - 0s 96ms/step - loss: 3.3690 - mae: 3.3690 - val_loss: 38.8249 - val_mae: 38.8249\n",
      "Epoch 11/100\n",
      "4/4 [==============================] - 0s 85ms/step - loss: 3.4177 - mae: 3.4177 - val_loss: 36.5707 - val_mae: 36.5707\n",
      "Epoch 12/100\n",
      "4/4 [==============================] - 0s 82ms/step - loss: 3.4202 - mae: 3.4202 - val_loss: 33.9889 - val_mae: 33.9889\n",
      "Epoch 13/100\n",
      "4/4 [==============================] - 0s 75ms/step - loss: 3.4017 - mae: 3.4017 - val_loss: 32.6072 - val_mae: 32.6072\n",
      "Epoch 14/100\n",
      "4/4 [==============================] - 0s 56ms/step - loss: 3.4621 - mae: 3.4621 - val_loss: 30.1125 - val_mae: 30.1125\n",
      "Epoch 15/100\n",
      "4/4 [==============================] - 0s 109ms/step - loss: 3.4132 - mae: 3.4132 - val_loss: 28.5234 - val_mae: 28.5234\n",
      "Epoch 16/100\n",
      "4/4 [==============================] - 0s 86ms/step - loss: 3.4093 - mae: 3.4093 - val_loss: 26.6925 - val_mae: 26.6925\n",
      "Epoch 17/100\n",
      "4/4 [==============================] - 0s 79ms/step - loss: 3.4238 - mae: 3.4238 - val_loss: 25.4276 - val_mae: 25.4276\n",
      "Epoch 18/100\n",
      "4/4 [==============================] - 0s 75ms/step - loss: 3.3573 - mae: 3.3573 - val_loss: 24.0112 - val_mae: 24.0112\n",
      "Epoch 19/100\n",
      "4/4 [==============================] - 0s 108ms/step - loss: 3.3842 - mae: 3.3842 - val_loss: 22.9484 - val_mae: 22.9484\n",
      "Epoch 20/100\n",
      "4/4 [==============================] - 0s 82ms/step - loss: 3.3557 - mae: 3.3557 - val_loss: 21.9285 - val_mae: 21.9285\n",
      "Epoch 21/100\n",
      "4/4 [==============================] - 0s 51ms/step - loss: 3.3779 - mae: 3.3779 - val_loss: 21.1043 - val_mae: 21.1043\n",
      "Epoch 22/100\n",
      "4/4 [==============================] - 0s 84ms/step - loss: 3.2923 - mae: 3.2923 - val_loss: 19.9196 - val_mae: 19.9196\n",
      "Epoch 23/100\n",
      "4/4 [==============================] - 0s 84ms/step - loss: 3.3087 - mae: 3.3087 - val_loss: 18.6536 - val_mae: 18.6536\n",
      "Epoch 24/100\n",
      "4/4 [==============================] - 0s 108ms/step - loss: 3.4062 - mae: 3.4062 - val_loss: 17.6272 - val_mae: 17.6272\n",
      "Epoch 25/100\n",
      "4/4 [==============================] - 0s 91ms/step - loss: 3.3345 - mae: 3.3345 - val_loss: 16.7055 - val_mae: 16.7055\n",
      "Epoch 26/100\n",
      "4/4 [==============================] - 0s 110ms/step - loss: 3.3669 - mae: 3.3669 - val_loss: 15.7486 - val_mae: 15.7486\n",
      "Epoch 27/100\n",
      "4/4 [==============================] - 0s 94ms/step - loss: 3.3759 - mae: 3.3759 - val_loss: 14.7370 - val_mae: 14.7370\n",
      "Epoch 28/100\n",
      "4/4 [==============================] - 0s 85ms/step - loss: 3.4298 - mae: 3.4298 - val_loss: 14.1480 - val_mae: 14.1480\n",
      "Epoch 29/100\n",
      "4/4 [==============================] - 0s 50ms/step - loss: 3.3705 - mae: 3.3705 - val_loss: 13.2267 - val_mae: 13.2267\n",
      "Epoch 30/100\n",
      "4/4 [==============================] - 0s 73ms/step - loss: 3.3125 - mae: 3.3125 - val_loss: 12.4076 - val_mae: 12.4076\n",
      "Epoch 31/100\n",
      "4/4 [==============================] - 0s 74ms/step - loss: 3.2975 - mae: 3.2975 - val_loss: 11.6196 - val_mae: 11.6196\n",
      "Epoch 32/100\n",
      "4/4 [==============================] - 0s 92ms/step - loss: 3.3880 - mae: 3.3880 - val_loss: 10.9611 - val_mae: 10.9611\n",
      "Epoch 33/100\n",
      "4/4 [==============================] - 0s 77ms/step - loss: 3.3537 - mae: 3.3537 - val_loss: 10.4112 - val_mae: 10.4112\n",
      "Epoch 34/100\n",
      "4/4 [==============================] - 0s 80ms/step - loss: 3.3833 - mae: 3.3833 - val_loss: 9.4148 - val_mae: 9.4148\n",
      "Epoch 35/100\n",
      "4/4 [==============================] - 0s 74ms/step - loss: 3.3558 - mae: 3.3558 - val_loss: 8.4360 - val_mae: 8.4360\n",
      "Epoch 36/100\n",
      "4/4 [==============================] - 0s 62ms/step - loss: 3.2906 - mae: 3.2906 - val_loss: 7.6364 - val_mae: 7.6364\n",
      "Epoch 37/100\n",
      "4/4 [==============================] - 0s 71ms/step - loss: 3.3120 - mae: 3.3120 - val_loss: 7.0770 - val_mae: 7.0770\n",
      "Epoch 38/100\n",
      "4/4 [==============================] - 0s 81ms/step - loss: 3.2729 - mae: 3.2729 - val_loss: 6.6476 - val_mae: 6.6476\n",
      "Epoch 39/100\n",
      "4/4 [==============================] - 0s 45ms/step - loss: 3.2838 - mae: 3.2838 - val_loss: 6.3627 - val_mae: 6.3627\n",
      "Epoch 40/100\n",
      "4/4 [==============================] - 0s 48ms/step - loss: 3.3814 - mae: 3.3814 - val_loss: 5.9700 - val_mae: 5.9700\n",
      "Epoch 41/100\n",
      "4/4 [==============================] - 0s 48ms/step - loss: 3.3822 - mae: 3.3822 - val_loss: 5.6523 - val_mae: 5.6523\n",
      "Epoch 42/100\n",
      "4/4 [==============================] - 0s 45ms/step - loss: 3.3474 - mae: 3.3474 - val_loss: 5.2792 - val_mae: 5.2792\n",
      "Epoch 43/100\n",
      "4/4 [==============================] - 0s 57ms/step - loss: 3.3229 - mae: 3.3229 - val_loss: 4.9248 - val_mae: 4.9248\n",
      "Epoch 44/100\n",
      "4/4 [==============================] - 0s 84ms/step - loss: 3.2685 - mae: 3.2685 - val_loss: 4.8509 - val_mae: 4.8509\n",
      "Epoch 45/100\n",
      "4/4 [==============================] - 0s 72ms/step - loss: 3.3093 - mae: 3.3093 - val_loss: 4.8107 - val_mae: 4.8107\n",
      "Epoch 46/100\n",
      "4/4 [==============================] - 0s 74ms/step - loss: 3.3365 - mae: 3.3365 - val_loss: 4.6652 - val_mae: 4.6652\n",
      "Epoch 47/100\n",
      "4/4 [==============================] - 0s 86ms/step - loss: 3.2661 - mae: 3.2661 - val_loss: 4.4180 - val_mae: 4.4180\n",
      "Epoch 48/100\n",
      "4/4 [==============================] - 0s 97ms/step - loss: 3.3056 - mae: 3.3056 - val_loss: 4.3459 - val_mae: 4.3459\n",
      "Epoch 49/100\n",
      "4/4 [==============================] - 0s 93ms/step - loss: 3.2819 - mae: 3.2819 - val_loss: 3.9728 - val_mae: 3.9728\n",
      "Epoch 50/100\n",
      "4/4 [==============================] - 0s 88ms/step - loss: 3.2680 - mae: 3.2680 - val_loss: 3.6136 - val_mae: 3.6136\n",
      "Epoch 51/100\n",
      "4/4 [==============================] - 0s 70ms/step - loss: 3.2627 - mae: 3.2627 - val_loss: 3.2802 - val_mae: 3.2802\n",
      "Epoch 52/100\n",
      "4/4 [==============================] - 0s 71ms/step - loss: 3.2659 - mae: 3.2659 - val_loss: 2.9128 - val_mae: 2.9128\n",
      "Epoch 53/100\n",
      "4/4 [==============================] - 0s 56ms/step - loss: 3.2902 - mae: 3.2902 - val_loss: 2.6655 - val_mae: 2.6655\n",
      "Epoch 54/100\n",
      "4/4 [==============================] - 0s 88ms/step - loss: 3.2650 - mae: 3.2650 - val_loss: 2.4960 - val_mae: 2.4960\n",
      "Epoch 55/100\n",
      "4/4 [==============================] - 0s 62ms/step - loss: 3.2819 - mae: 3.2819 - val_loss: 2.2967 - val_mae: 2.2967\n",
      "Epoch 56/100\n",
      "4/4 [==============================] - 0s 67ms/step - loss: 3.3259 - mae: 3.3259 - val_loss: 2.0215 - val_mae: 2.0215\n",
      "Epoch 57/100\n",
      "4/4 [==============================] - 0s 83ms/step - loss: 3.2539 - mae: 3.2539 - val_loss: 1.9214 - val_mae: 1.9214\n",
      "Epoch 58/100\n",
      "4/4 [==============================] - 0s 78ms/step - loss: 3.2743 - mae: 3.2743 - val_loss: 1.8433 - val_mae: 1.8433\n",
      "Epoch 59/100\n",
      "4/4 [==============================] - 0s 86ms/step - loss: 3.2575 - mae: 3.2575 - val_loss: 1.6594 - val_mae: 1.6594\n",
      "Epoch 60/100\n",
      "4/4 [==============================] - 0s 61ms/step - loss: 3.2920 - mae: 3.2920 - val_loss: 1.5613 - val_mae: 1.5613\n",
      "Epoch 61/100\n",
      "4/4 [==============================] - 0s 67ms/step - loss: 3.1935 - mae: 3.1935 - val_loss: 1.4694 - val_mae: 1.4694\n",
      "Epoch 62/100\n",
      "4/4 [==============================] - 0s 59ms/step - loss: 3.3228 - mae: 3.3228 - val_loss: 1.3318 - val_mae: 1.3318\n",
      "Epoch 63/100\n"
     ]
    },
    {
     "name": "stdout",
     "output_type": "stream",
     "text": [
      "4/4 [==============================] - 0s 48ms/step - loss: 3.2380 - mae: 3.2380 - val_loss: 1.1997 - val_mae: 1.1997\n",
      "Epoch 64/100\n",
      "4/4 [==============================] - 0s 90ms/step - loss: 3.2282 - mae: 3.2282 - val_loss: 1.0758 - val_mae: 1.0758\n",
      "Epoch 65/100\n",
      "4/4 [==============================] - 0s 80ms/step - loss: 3.2575 - mae: 3.2575 - val_loss: 1.0158 - val_mae: 1.0158\n",
      "Epoch 66/100\n",
      "4/4 [==============================] - 0s 67ms/step - loss: 3.1935 - mae: 3.1935 - val_loss: 0.9552 - val_mae: 0.9552\n",
      "Epoch 67/100\n",
      "4/4 [==============================] - 0s 84ms/step - loss: 3.2532 - mae: 3.2532 - val_loss: 0.9138 - val_mae: 0.9138\n",
      "Epoch 68/100\n",
      "4/4 [==============================] - 0s 83ms/step - loss: 3.1977 - mae: 3.1977 - val_loss: 0.8951 - val_mae: 0.8951\n",
      "Epoch 69/100\n",
      "4/4 [==============================] - 0s 74ms/step - loss: 3.2413 - mae: 3.2413 - val_loss: 0.8929 - val_mae: 0.8929\n",
      "Epoch 70/100\n",
      "4/4 [==============================] - 0s 61ms/step - loss: 3.1896 - mae: 3.1896 - val_loss: 0.9223 - val_mae: 0.9223\n",
      "Epoch 71/100\n",
      "4/4 [==============================] - 0s 50ms/step - loss: 3.2045 - mae: 3.2045 - val_loss: 0.9616 - val_mae: 0.9616\n",
      "Epoch 72/100\n",
      "4/4 [==============================] - 0s 66ms/step - loss: 3.1881 - mae: 3.1881 - val_loss: 1.0173 - val_mae: 1.0173\n",
      "Epoch 73/100\n",
      "4/4 [==============================] - 0s 88ms/step - loss: 3.1898 - mae: 3.1898 - val_loss: 1.1447 - val_mae: 1.1447\n",
      "Epoch 74/100\n",
      "4/4 [==============================] - 0s 76ms/step - loss: 3.1723 - mae: 3.1723 - val_loss: 1.2202 - val_mae: 1.2202\n",
      "Epoch 75/100\n",
      "4/4 [==============================] - 0s 78ms/step - loss: 3.1823 - mae: 3.1823 - val_loss: 1.2704 - val_mae: 1.2704\n",
      "Epoch 76/100\n",
      "4/4 [==============================] - 0s 76ms/step - loss: 3.2145 - mae: 3.2145 - val_loss: 1.3386 - val_mae: 1.3386\n",
      "Epoch 77/100\n",
      "4/4 [==============================] - 0s 71ms/step - loss: 3.2005 - mae: 3.2005 - val_loss: 1.3311 - val_mae: 1.3311\n",
      "Epoch 78/100\n",
      "4/4 [==============================] - 0s 76ms/step - loss: 3.1986 - mae: 3.1986 - val_loss: 1.3586 - val_mae: 1.3586\n",
      "Epoch 79/100\n",
      "4/4 [==============================] - 0s 68ms/step - loss: 3.1687 - mae: 3.1687 - val_loss: 1.3876 - val_mae: 1.3876\n",
      "Epoch 80/100\n",
      "4/4 [==============================] - 0s 61ms/step - loss: 3.2201 - mae: 3.2201 - val_loss: 1.4211 - val_mae: 1.4211\n",
      "Epoch 81/100\n",
      "4/4 [==============================] - 0s 83ms/step - loss: 3.1959 - mae: 3.1959 - val_loss: 1.4897 - val_mae: 1.4897\n",
      "Epoch 82/100\n",
      "4/4 [==============================] - 0s 65ms/step - loss: 3.1647 - mae: 3.1647 - val_loss: 1.5606 - val_mae: 1.5606\n",
      "Epoch 83/100\n",
      "4/4 [==============================] - 0s 54ms/step - loss: 3.1723 - mae: 3.1723 - val_loss: 1.6729 - val_mae: 1.6729\n",
      "Epoch 84/100\n",
      "4/4 [==============================] - 0s 50ms/step - loss: 3.1407 - mae: 3.1407 - val_loss: 1.6997 - val_mae: 1.6997\n",
      "Epoch 85/100\n",
      "4/4 [==============================] - 0s 60ms/step - loss: 3.1599 - mae: 3.1599 - val_loss: 1.7070 - val_mae: 1.7070\n",
      "Epoch 86/100\n",
      "4/4 [==============================] - 0s 66ms/step - loss: 3.0915 - mae: 3.0915 - val_loss: 1.7450 - val_mae: 1.7450\n",
      "Epoch 87/100\n",
      "4/4 [==============================] - 0s 67ms/step - loss: 3.1533 - mae: 3.1533 - val_loss: 1.7804 - val_mae: 1.7804\n",
      "Epoch 88/100\n",
      "4/4 [==============================] - 0s 76ms/step - loss: 3.0734 - mae: 3.0734 - val_loss: 1.7739 - val_mae: 1.7739\n",
      "Epoch 89/100\n",
      "4/4 [==============================] - 0s 59ms/step - loss: 3.2062 - mae: 3.2062 - val_loss: 1.8117 - val_mae: 1.8117\n",
      "Epoch 90/100\n",
      "4/4 [==============================] - 0s 65ms/step - loss: 3.1963 - mae: 3.1963 - val_loss: 1.8880 - val_mae: 1.8880\n",
      "Epoch 91/100\n",
      "4/4 [==============================] - 0s 67ms/step - loss: 3.1123 - mae: 3.1123 - val_loss: 1.9114 - val_mae: 1.9114\n",
      "Epoch 92/100\n",
      "4/4 [==============================] - 0s 65ms/step - loss: 3.1355 - mae: 3.1355 - val_loss: 1.9291 - val_mae: 1.9291\n",
      "Epoch 93/100\n",
      "4/4 [==============================] - 0s 64ms/step - loss: 3.1307 - mae: 3.1307 - val_loss: 2.0022 - val_mae: 2.0022\n",
      "Epoch 94/100\n",
      "4/4 [==============================] - 0s 52ms/step - loss: 3.1827 - mae: 3.1827 - val_loss: 2.0274 - val_mae: 2.0274\n",
      "Epoch 95/100\n",
      "4/4 [==============================] - 0s 63ms/step - loss: 3.0761 - mae: 3.0761 - val_loss: 2.0588 - val_mae: 2.0588\n",
      "Epoch 96/100\n",
      "4/4 [==============================] - 0s 52ms/step - loss: 3.1254 - mae: 3.1254 - val_loss: 2.0820 - val_mae: 2.0820\n",
      "Epoch 97/100\n",
      "4/4 [==============================] - 0s 80ms/step - loss: 3.1646 - mae: 3.1646 - val_loss: 2.1166 - val_mae: 2.1166\n",
      "Epoch 98/100\n",
      "4/4 [==============================] - 0s 81ms/step - loss: 3.1743 - mae: 3.1743 - val_loss: 2.1137 - val_mae: 2.1137\n",
      "Epoch 99/100\n",
      "4/4 [==============================] - 0s 57ms/step - loss: 3.1214 - mae: 3.1214 - val_loss: 2.1280 - val_mae: 2.1280\n",
      "Epoch 100/100\n",
      "4/4 [==============================] - 0s 56ms/step - loss: 3.0469 - mae: 3.0469 - val_loss: 2.1513 - val_mae: 2.1513\n"
     ]
    }
   ],
   "source": [
    "# Train MLP. \n",
    "history = model.fit(Xtrain, ytrain, epochs=10000, batch_size=32, verbose=1, validation_data=(Xval, yval), callbacks=[stopping]) "
   ]
  },
  {
   "cell_type": "code",
   "execution_count": 37,
   "metadata": {},
   "outputs": [
    {
     "name": "stdout",
     "output_type": "stream",
     "text": [
      "dict_keys(['loss', 'mae', 'val_loss', 'val_mae'])\n"
     ]
    },
    {
     "data": {
      "text/plain": [
       "Text(0.5, 0, 'Training Epoch')"
      ]
     },
     "execution_count": 37,
     "metadata": {},
     "output_type": "execute_result"
    },
    {
     "data": {
      "image/png": "[encoded data removed]",
      "text/plain": [
       "<Figure size 432x288 with 1 Axes>"
      ]
     },
     "metadata": {
      "needs_background": "light"
     },
     "output_type": "display_data"
    }
   ],
   "source": [
    "# Plote validation MAE vs number of training epochs. \n",
    "print(history.history.keys())\n",
    "plt.plot(history.history['mae'])\n",
    "plt.plot(history.history['val_mae'])\n",
    "plt.ylabel('Mean Absolute Error')\n",
    "plt.xlabel('Training Epoch')\n",
    "#plt.ylim(0,1)\n",
    "#plt.savefig('val-mae-zoom.png')"
   ]
  }
 ],
 "metadata": {
  "kernelspec": {
   "display_name": "Python 3",
   "language": "python",
   "name": "python3"
  },
  "language_info": {
   "codemirror_mode": {
    "name": "ipython",
    "version": 3
   },
   "file_extension": ".py",
   "mimetype": "text/x-python",
   "name": "python",
   "nbconvert_exporter": "python",
   "pygments_lexer": "ipython3",
   "version": "3.7.10"
  }
 },
 "nbformat": 4,
 "nbformat_minor": 4
}

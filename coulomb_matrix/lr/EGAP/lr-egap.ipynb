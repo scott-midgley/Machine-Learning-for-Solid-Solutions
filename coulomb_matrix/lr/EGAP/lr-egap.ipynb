{
 "cells": [
  {
   "cell_type": "markdown",
   "metadata": {},
   "source": [
    "### Program written by Scott Midgley, 2021\n",
    "\n",
    "Scope: To train and test LR models for band gap energy screening in the configuraional space of MgO-ZnO solid solutions. "
   ]
  },
  {
   "cell_type": "code",
   "execution_count": 1,
   "metadata": {},
   "outputs": [],
   "source": [
    "### USER INPUT REQUIRED ###\n",
    "\n",
    "# Please paste in the path to the repositiory here an comment/uncomment as needed.\n",
    "# E.g. rundir = r'C:\\Users\\<user>\\Desktop\\repository'\n",
    "\n",
    "# Windows path\n",
    "#repodir = r'<windows\\path\\here>'\n",
    "#repodir = r'C:\\Users\\smidg\\Desktop\\ml\\repository'\n",
    "\n",
    "#Unix path\n",
    "#repodir = '<unix/path/here>'\n",
    "repodir = r'/home/mts87985/ml-thermo/Machine-Learning-for-Solid-Solutions/'"
   ]
  },
  {
   "cell_type": "code",
   "execution_count": 2,
   "metadata": {},
   "outputs": [],
   "source": [
    "### USER INPUT REQUIRED ###\n",
    "\n",
    "# Define percentage of training data to use for training. \n",
    "split = 10\n",
    "#split = 50\n",
    "#split = 80\n",
    "#split = 30"
   ]
  },
  {
   "cell_type": "code",
   "execution_count": 3,
   "metadata": {},
   "outputs": [],
   "source": [
    "# Import modules. \n",
    "import pandas as pd\n",
    "import tensorflow as tf\n",
    "import matplotlib\n",
    "import matplotlib.pyplot as plt\n",
    "import numpy as np\n",
    "from sklearn import preprocessing\n",
    "import pickle\n",
    "import time\n",
    "from sklearn.linear_model import LinearRegression\n",
    "from sklearn.metrics import mean_absolute_error\n",
    "import os\n",
    "from sklearn.linear_model import Lasso"
   ]
  },
  {
   "cell_type": "markdown",
   "metadata": {},
   "source": [
    "## Load the data\n",
    "\n",
    "Note we do not shuffle in this case. The data was shuffled when created and we are keeping it un-shuffled here so that the order is the same as that used in the paper. However, you are free to add a shuffle if you like."
   ]
  },
  {
   "cell_type": "code",
   "execution_count": 4,
   "metadata": {},
   "outputs": [],
   "source": [
    "# Import data and shuffle (optional).\n",
    "eners = pd.read_pickle(repodir + 'repository-data/coulomb_matrix/input_data_cme.pkl')\n",
    "eners = eners.sample(frac=1)\n",
    "# Split data frame into training, validation, and testing data. \n",
    "if split == int(10):\n",
    "    e_train = eners.iloc[1608:2412] #10% of data for training\n",
    "elif split == int(30):\n",
    "    e_train = eners.iloc[1608:4021] #30% of data for training\n",
    "elif split == int(50):\n",
    "    e_train = eners.iloc[1608:5630] #50% of data for training\n",
    "elif split == int(80):\n",
    "    e_train = eners.iloc[1608:] #80% of data for training\n",
    "else:\n",
    "    print('Error: please choose a valid train/test split.')\n",
    "e_val = eners.iloc[804:1608] #10% of data for validation\n",
    "e_test = eners.iloc[:804] #10% of data for testing model"
   ]
  },
  {
   "cell_type": "code",
   "execution_count": 5,
   "metadata": {},
   "outputs": [],
   "source": [
    "# Convert Pandas columns to Numpy arrays. Reshaping to obtain array of nested brackets. \n",
    "Xtrain = e_train['Coulomb'].to_numpy()\n",
    "ytrain = e_train['BGE'].to_numpy()\n",
    "Xtrain = np.stack(Xtrain)\n",
    "ytrain= np.stack(ytrain) \n",
    "Xval = e_val['Coulomb'].to_numpy()\n",
    "yval = e_val['BGE'].to_numpy()\n",
    "Xval = np.stack(Xval)\n",
    "yval= np.stack(yval)\n",
    "Xtest = e_test['Coulomb'].to_numpy()\n",
    "ytest = e_test['BGE'].to_numpy()\n",
    "Xtest = np.stack(Xtest)\n",
    "ytest = np.stack(ytest)"
   ]
  },
  {
   "cell_type": "code",
   "execution_count": 6,
   "metadata": {},
   "outputs": [
    {
     "name": "stderr",
     "output_type": "stream",
     "text": [
      "/home/mts87985/anaconda3/envs/ml-solid-solns/lib/python3.9/site-packages/sklearn/linear_model/_coordinate_descent.py:530: ConvergenceWarning: Objective did not converge. You might want to increase the number of iterations. Duality gap: 0.44371406809018715, tolerance: 0.001598997209014726\n",
      "  model = cd_fast.enet_coordinate_descent(\n"
     ]
    },
    {
     "data": {
      "text/plain": [
       "Lasso(alpha=1e-07)"
      ]
     },
     "execution_count": 6,
     "metadata": {},
     "output_type": "execute_result"
    }
   ],
   "source": [
    "# Define Lasso regularizer and train regressor.\n",
    "lasso_reg = Lasso(alpha=0.0000001)\n",
    "lasso_reg.fit(Xtrain, ytrain)"
   ]
  },
  {
   "cell_type": "code",
   "execution_count": 7,
   "metadata": {},
   "outputs": [
    {
     "name": "stdout",
     "output_type": "stream",
     "text": [
      "0.944660713841141\n",
      "('intercept: ', -362.02234795507087)\n",
      "('coefficient:  ', array([-3.24740722e-04,  9.19193140e-04,  4.17627605e-04, -1.10721614e-04,\n",
      "       -1.68912337e-04, -3.73912066e-04, -6.57752061e-04, -3.72062414e-04,\n",
      "        1.06763836e-04,  5.51771068e-03,  9.20861662e-03,  9.10358110e-03,\n",
      "        1.01428283e-02,  8.83088448e-03,  6.57704883e-03, -0.00000000e+00,\n",
      "        0.00000000e+00,  0.00000000e+00,  0.00000000e+00, -1.10785719e-02,\n",
      "       -1.63939608e-02, -1.79481727e-02, -2.38076922e-02, -4.03571225e-02,\n",
      "       -1.24443264e-02, -6.29594833e-03, -2.13598803e-03,  2.39409833e-03,\n",
      "        9.81359489e-04,  4.16548178e-03,  4.72566411e-03,  3.08422743e-03,\n",
      "        2.20548020e-02, -5.05392094e-02, -3.12862380e-02, -5.69456470e-03,\n",
      "       -1.20630677e-02,  1.21384301e-02, -7.10106702e-02,  5.34438855e-01,\n",
      "        5.36246426e-01,  2.50928932e+00,  0.00000000e+00,  1.03151165e-01,\n",
      "        2.34361668e-01,  2.74108886e-01,  3.12311422e-01,  4.31364538e-01,\n",
      "        3.21114068e-01,  2.46496696e-01,  1.22614440e-01, -0.00000000e+00,\n",
      "       -0.00000000e+00, -0.00000000e+00, -0.00000000e+00,  0.00000000e+00,\n",
      "        0.00000000e+00,  0.00000000e+00, -0.00000000e+00, -0.00000000e+00,\n",
      "       -0.00000000e+00, -5.75774089e+00,  1.88300211e+00,  4.66042588e+00]))\n"
     ]
    }
   ],
   "source": [
    "# Print parameters.\n",
    "r_sq = (lasso_reg.score(Xtrain, ytrain))\n",
    "inter = ('intercept: ', lasso_reg.intercept_)\n",
    "coef = ('coefficient:  ', lasso_reg.coef_)\n",
    "print(r_sq)\n",
    "print(inter)\n",
    "print(coef)"
   ]
  },
  {
   "cell_type": "code",
   "execution_count": 8,
   "metadata": {},
   "outputs": [],
   "source": [
    "# Test linear regressor.\n",
    "ypred = lasso_reg.predict(Xtest)"
   ]
  },
  {
   "cell_type": "code",
   "execution_count": 9,
   "metadata": {},
   "outputs": [
    {
     "name": "stdout",
     "output_type": "stream",
     "text": [
      "mae =  0.028820626861030898\n"
     ]
    }
   ],
   "source": [
    "# Print metric.\n",
    "mae = (mean_absolute_error(ytest, ypred))\n",
    "print('mae = ', mae)"
   ]
  },
  {
   "cell_type": "code",
   "execution_count": 10,
   "metadata": {},
   "outputs": [
    {
     "data": {
      "text/plain": [
       "Text(0, 0.5, 'Regressor')"
      ]
     },
     "execution_count": 10,
     "metadata": {},
     "output_type": "execute_result"
    },
    {
     "data": {
      "image/png": "[encoded data removed]",
      "text/plain": [
       "<Figure size 432x288 with 1 Axes>"
      ]
     },
     "metadata": {
      "needs_background": "light"
     },
     "output_type": "display_data"
    }
   ],
   "source": [
    "#Plot DFT Band gap energy vs regressor predicted.\n",
    "plt.scatter(ytest, ypred)# plot the predicted versus the actual gaps\n",
    "plt.xlabel('DFT')\n",
    "plt.ylabel('Regressor')\n",
    "#plt.savefig('BGE_pred_vs_val.png')"
   ]
  },
  {
   "cell_type": "code",
   "execution_count": null,
   "metadata": {},
   "outputs": [],
   "source": []
  }
 ],
 "metadata": {
  "kernelspec": {
   "display_name": "Python 3",
   "language": "python",
   "name": "python3"
  },
  "language_info": {
   "codemirror_mode": {
    "name": "ipython",
    "version": 3
   },
   "file_extension": ".py",
   "mimetype": "text/x-python",
   "name": "python",
   "nbconvert_exporter": "python",
   "pygments_lexer": "ipython3",
   "version": "3.9.4"
  }
 },
 "nbformat": 4,
 "nbformat_minor": 4
}
